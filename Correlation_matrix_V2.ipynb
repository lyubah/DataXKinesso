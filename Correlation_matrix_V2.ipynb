{
  "nbformat": 4,
  "nbformat_minor": 5,
  "metadata": {
    "kernelspec": {
      "display_name": "Python 3",
      "language": "python",
      "name": "python3"
    },
    "language_info": {
      "codemirror_mode": {
        "name": "ipython",
        "version": 3
      },
      "file_extension": ".py",
      "mimetype": "text/x-python",
      "name": "python",
      "nbconvert_exporter": "python",
      "pygments_lexer": "ipython3",
      "version": "3.8.5"
    },
    "colab": {
      "name": "Correlation matrix V2.ipynb",
      "provenance": []
    }
  },
  "cells": [
    {
      "cell_type": "markdown",
      "metadata": {
        "id": "expressed-syndicate"
      },
      "source": [
        "# Imports"
      ],
      "id": "expressed-syndicate"
    },
    {
      "cell_type": "code",
      "metadata": {
        "id": "fitting-coverage"
      },
      "source": [
        "import pandas as pd\n",
        "import numpy as np\n",
        "import matplotlib.pyplot as plt\n",
        "import seaborn as sns\n",
        "\n",
        "from sklearn.preprocessing import OneHotEncoder\n",
        "from scipy.stats import chisquare"
      ],
      "id": "fitting-coverage",
      "execution_count": null,
      "outputs": []
    },
    {
      "cell_type": "markdown",
      "metadata": {
        "id": "driven-oakland"
      },
      "source": [
        "# Data Processing"
      ],
      "id": "driven-oakland"
    },
    {
      "cell_type": "code",
      "metadata": {
        "id": "academic-browser",
        "outputId": "3e0f52c3-b874-46a2-9365-4513c97adf83"
      },
      "source": [
        "LA = pd.read_csv('Audience_LA', error_bad_lines = False)"
      ],
      "id": "academic-browser",
      "execution_count": null,
      "outputs": [
        {
          "output_type": "stream",
          "text": [
            "b'Skipping line 390413: expected 10 fields, saw 11\\n'\n",
            "/Users/michellegu/miniconda3/lib/python3.8/site-packages/IPython/core/interactiveshell.py:3165: DtypeWarning: Columns (3) have mixed types.Specify dtype option on import or set low_memory=False.\n",
            "  has_raised = await self.run_ast_nodes(code_ast.body, cell_name,\n"
          ],
          "name": "stderr"
        }
      ]
    },
    {
      "cell_type": "code",
      "metadata": {
        "id": "streaming-accent"
      },
      "source": [
        "new = LA.copy(deep = True)"
      ],
      "id": "streaming-accent",
      "execution_count": null,
      "outputs": []
    },
    {
      "cell_type": "code",
      "metadata": {
        "id": "hollow-housing",
        "outputId": "905af902-fbf0-411b-ea75-54bfdea5197a"
      },
      "source": [
        "new"
      ],
      "id": "hollow-housing",
      "execution_count": null,
      "outputs": [
        {
          "output_type": "execute_result",
          "data": {
            "text/html": [
              "<div>\n",
              "<style scoped>\n",
              "    .dataframe tbody tr th:only-of-type {\n",
              "        vertical-align: middle;\n",
              "    }\n",
              "\n",
              "    .dataframe tbody tr th {\n",
              "        vertical-align: top;\n",
              "    }\n",
              "\n",
              "    .dataframe thead th {\n",
              "        text-align: right;\n",
              "    }\n",
              "</style>\n",
              "<table border=\"1\" class=\"dataframe\">\n",
              "  <thead>\n",
              "    <tr style=\"text-align: right;\">\n",
              "      <th></th>\n",
              "      <th>Unnamed: 0</th>\n",
              "      <th>ZIP</th>\n",
              "      <th>GENDER</th>\n",
              "      <th>AGE</th>\n",
              "      <th>STATE_ABBREVIATION</th>\n",
              "      <th>DMA_NAME_ACXIOM</th>\n",
              "      <th>DEMO_HH_INCOME</th>\n",
              "      <th>ETHNICITY</th>\n",
              "      <th>HOMEOWNERSHIP_STATUS</th>\n",
              "      <th>EDUCATION</th>\n",
              "    </tr>\n",
              "  </thead>\n",
              "  <tbody>\n",
              "    <tr>\n",
              "      <th>0</th>\n",
              "      <td>0</td>\n",
              "      <td>71202</td>\n",
              "      <td>M</td>\n",
              "      <td>67.0</td>\n",
              "      <td>LA</td>\n",
              "      <td>Monroe-El Dorado</td>\n",
              "      <td>$30,000 to $49,999</td>\n",
              "      <td>African American</td>\n",
              "      <td>Homeowner</td>\n",
              "      <td>High School</td>\n",
              "    </tr>\n",
              "    <tr>\n",
              "      <th>1</th>\n",
              "      <td>1</td>\n",
              "      <td>70438</td>\n",
              "      <td>F</td>\n",
              "      <td>33.0</td>\n",
              "      <td>LA</td>\n",
              "      <td>New Orleans</td>\n",
              "      <td>$100,000 to $149,999</td>\n",
              "      <td>White</td>\n",
              "      <td>Renter</td>\n",
              "      <td>College</td>\n",
              "    </tr>\n",
              "    <tr>\n",
              "      <th>2</th>\n",
              "      <td>2</td>\n",
              "      <td>70770</td>\n",
              "      <td>F</td>\n",
              "      <td>59.0</td>\n",
              "      <td>LA</td>\n",
              "      <td>Baton Rouge</td>\n",
              "      <td>Less than $30,000</td>\n",
              "      <td>White</td>\n",
              "      <td>Homeowner</td>\n",
              "      <td>College</td>\n",
              "    </tr>\n",
              "    <tr>\n",
              "      <th>3</th>\n",
              "      <td>3</td>\n",
              "      <td>71108</td>\n",
              "      <td>F</td>\n",
              "      <td>63.0</td>\n",
              "      <td>LA</td>\n",
              "      <td>Shreveport</td>\n",
              "      <td>$30,000 to $49,999</td>\n",
              "      <td>African American</td>\n",
              "      <td>Homeowner</td>\n",
              "      <td>College</td>\n",
              "    </tr>\n",
              "    <tr>\n",
              "      <th>4</th>\n",
              "      <td>4</td>\n",
              "      <td>70802</td>\n",
              "      <td>F</td>\n",
              "      <td>81.0</td>\n",
              "      <td>LA</td>\n",
              "      <td>Baton Rouge</td>\n",
              "      <td>Less than $30,000</td>\n",
              "      <td>African American</td>\n",
              "      <td>Homeowner</td>\n",
              "      <td>not_reported</td>\n",
              "    </tr>\n",
              "    <tr>\n",
              "      <th>...</th>\n",
              "      <td>...</td>\n",
              "      <td>...</td>\n",
              "      <td>...</td>\n",
              "      <td>...</td>\n",
              "      <td>...</td>\n",
              "      <td>...</td>\n",
              "      <td>...</td>\n",
              "      <td>...</td>\n",
              "      <td>...</td>\n",
              "      <td>...</td>\n",
              "    </tr>\n",
              "    <tr>\n",
              "      <th>3904870</th>\n",
              "      <td>3710313</td>\n",
              "      <td>70124</td>\n",
              "      <td>M</td>\n",
              "      <td>51.0</td>\n",
              "      <td>LA</td>\n",
              "      <td>New Orleans</td>\n",
              "      <td>$75,000 to $99,999</td>\n",
              "      <td>Hispanic</td>\n",
              "      <td>Homeowner</td>\n",
              "      <td>College</td>\n",
              "    </tr>\n",
              "    <tr>\n",
              "      <th>3904871</th>\n",
              "      <td>3710314</td>\n",
              "      <td>71112</td>\n",
              "      <td>M</td>\n",
              "      <td>33.0</td>\n",
              "      <td>LA</td>\n",
              "      <td>Shreveport</td>\n",
              "      <td>Less than $30,000</td>\n",
              "      <td>White</td>\n",
              "      <td>Renter</td>\n",
              "      <td>not_reported</td>\n",
              "    </tr>\n",
              "    <tr>\n",
              "      <th>3904872</th>\n",
              "      <td>3710315</td>\n",
              "      <td>70764</td>\n",
              "      <td>M</td>\n",
              "      <td>73.0</td>\n",
              "      <td>LA</td>\n",
              "      <td>Baton Rouge</td>\n",
              "      <td>$50,000 to $74,999</td>\n",
              "      <td>White</td>\n",
              "      <td>Homeowner</td>\n",
              "      <td>High School</td>\n",
              "    </tr>\n",
              "    <tr>\n",
              "      <th>3904873</th>\n",
              "      <td>3710316</td>\n",
              "      <td>70534</td>\n",
              "      <td>M</td>\n",
              "      <td>35.0</td>\n",
              "      <td>LA</td>\n",
              "      <td>Lafayette, LA</td>\n",
              "      <td>Less than $30,000</td>\n",
              "      <td>White</td>\n",
              "      <td>Renter</td>\n",
              "      <td>not_reported</td>\n",
              "    </tr>\n",
              "    <tr>\n",
              "      <th>3904874</th>\n",
              "      <td>3710317</td>\n",
              "      <td>71068</td>\n",
              "      <td>M</td>\n",
              "      <td>61.0</td>\n",
              "      <td>LA</td>\n",
              "      <td>Shreveport</td>\n",
              "      <td>$50,000 to $74,999</td>\n",
              "      <td>White</td>\n",
              "      <td>Homeowner</td>\n",
              "      <td>not_reported</td>\n",
              "    </tr>\n",
              "  </tbody>\n",
              "</table>\n",
              "<p>3904875 rows × 10 columns</p>\n",
              "</div>"
            ],
            "text/plain": [
              "         Unnamed: 0    ZIP GENDER   AGE STATE_ABBREVIATION   DMA_NAME_ACXIOM  \\\n",
              "0                 0  71202      M  67.0                 LA  Monroe-El Dorado   \n",
              "1                 1  70438      F  33.0                 LA       New Orleans   \n",
              "2                 2  70770      F  59.0                 LA       Baton Rouge   \n",
              "3                 3  71108      F  63.0                 LA        Shreveport   \n",
              "4                 4  70802      F  81.0                 LA       Baton Rouge   \n",
              "...             ...    ...    ...   ...                ...               ...   \n",
              "3904870     3710313  70124      M  51.0                 LA       New Orleans   \n",
              "3904871     3710314  71112      M  33.0                 LA        Shreveport   \n",
              "3904872     3710315  70764      M  73.0                 LA       Baton Rouge   \n",
              "3904873     3710316  70534      M  35.0                 LA     Lafayette, LA   \n",
              "3904874     3710317  71068      M  61.0                 LA        Shreveport   \n",
              "\n",
              "               DEMO_HH_INCOME         ETHNICITY HOMEOWNERSHIP_STATUS  \\\n",
              "0          $30,000 to $49,999  African American            Homeowner   \n",
              "1        $100,000 to $149,999             White               Renter   \n",
              "2           Less than $30,000             White            Homeowner   \n",
              "3          $30,000 to $49,999  African American            Homeowner   \n",
              "4           Less than $30,000  African American            Homeowner   \n",
              "...                       ...               ...                  ...   \n",
              "3904870    $75,000 to $99,999          Hispanic            Homeowner   \n",
              "3904871     Less than $30,000             White               Renter   \n",
              "3904872    $50,000 to $74,999             White            Homeowner   \n",
              "3904873     Less than $30,000             White               Renter   \n",
              "3904874    $50,000 to $74,999             White            Homeowner   \n",
              "\n",
              "            EDUCATION  \n",
              "0         High School  \n",
              "1             College  \n",
              "2             College  \n",
              "3             College  \n",
              "4        not_reported  \n",
              "...               ...  \n",
              "3904870       College  \n",
              "3904871  not_reported  \n",
              "3904872   High School  \n",
              "3904873  not_reported  \n",
              "3904874  not_reported  \n",
              "\n",
              "[3904875 rows x 10 columns]"
            ]
          },
          "metadata": {
            "tags": []
          },
          "execution_count": 4
        }
      ]
    },
    {
      "cell_type": "code",
      "metadata": {
        "id": "ethical-frederick"
      },
      "source": [
        "#drop null values\n",
        "new.dropna(axis = 0, inplace = True)"
      ],
      "id": "ethical-frederick",
      "execution_count": null,
      "outputs": []
    },
    {
      "cell_type": "code",
      "metadata": {
        "id": "institutional-smile"
      },
      "source": [
        "#change type to be same for all entries (float), then change to int\n",
        "new['AGE'] = new['AGE'].astype(float).astype(int)\n",
        "\n",
        "#manipulate age into bins\n",
        "new.loc[new['AGE'] <= 20, 'AGE'] = 0\n",
        "new.loc[(new['AGE'] > 20) & (new['AGE'] <= 40), 'AGE'] = 1\n",
        "new.loc[(new['AGE'] > 40) & (new['AGE'] <= 60), 'AGE'] = 2\n",
        "new.loc[(new['AGE'] > 60) & (new['AGE'] <= 80), 'AGE'] = 3\n",
        "new.loc[(new['AGE'] > 80) & (new['AGE'] <= 100), 'AGE'] = 4\n",
        "new.loc[(new['AGE'] > 100) & (new['AGE'] <= 120), 'AGE'] = 5"
      ],
      "id": "institutional-smile",
      "execution_count": null,
      "outputs": []
    },
    {
      "cell_type": "code",
      "metadata": {
        "id": "muslim-luxembourg",
        "colab": {
          "base_uri": "https://localhost:8080/",
          "height": 232
        },
        "outputId": "0be4c85d-5925-48d9-e321-f67cf667adbc"
      },
      "source": [
        "factor_dict = {\n",
        "    'GENDER': {\n",
        "        'M': 0,\n",
        "        'F': 1\n",
        "    },\n",
        "    'HOMEOWNERSHIP_STATUS': {\n",
        "        'Homeowner': 1,\n",
        "        'Renter': 0\n",
        "    },\n",
        "    'DEMO_HH_INCOME': {\n",
        "        'Less than $30,000': 0,\n",
        "        '$30,000 to $49,999': 1, \n",
        "        '$50,000 to $74,999': 2,\n",
        "        '$75,000 to $99,999': 3,\n",
        "        '$100,000 to $149,999': 4,\n",
        "        '$150,000 to $199,999': 5,\n",
        "        '$200,000 to $249,999': 6,\n",
        "        '$250,000 +': 7\n",
        "    },\n",
        "    'EDUCATION': {\n",
        "        'not_reported': 0,\n",
        "        'High School': 1,\n",
        "        'Vocational_or_Technical': 2,\n",
        "        'College': 3,\n",
        "        'Graduate School': 4\n",
        "    }\n",
        "}\n",
        "new.replace(factor_dict, inplace = True)"
      ],
      "id": "muslim-luxembourg",
      "execution_count": null,
      "outputs": [
        {
          "output_type": "error",
          "ename": "NameError",
          "evalue": "ignored",
          "traceback": [
            "\u001b[0;31m---------------------------------------------------------------------------\u001b[0m",
            "\u001b[0;31mNameError\u001b[0m                                 Traceback (most recent call last)",
            "\u001b[0;32m<ipython-input-1-0fcd7826e7ec>\u001b[0m in \u001b[0;36m<module>\u001b[0;34m()\u001b[0m\n\u001b[1;32m     26\u001b[0m     }\n\u001b[1;32m     27\u001b[0m }\n\u001b[0;32m---> 28\u001b[0;31m \u001b[0mnew\u001b[0m\u001b[0;34m.\u001b[0m\u001b[0mreplace\u001b[0m\u001b[0;34m(\u001b[0m\u001b[0mfactor_dict\u001b[0m\u001b[0;34m,\u001b[0m \u001b[0minplace\u001b[0m \u001b[0;34m=\u001b[0m \u001b[0;32mTrue\u001b[0m\u001b[0;34m)\u001b[0m\u001b[0;34m\u001b[0m\u001b[0;34m\u001b[0m\u001b[0m\n\u001b[0m",
            "\u001b[0;31mNameError\u001b[0m: name 'new' is not defined"
          ]
        }
      ]
    },
    {
      "cell_type": "code",
      "metadata": {
        "id": "unexpected-fight"
      },
      "source": [
        "#one hot encode function\n",
        "def ohe_col(data, col):\n",
        "    enc = OneHotEncoder()\n",
        "    enc.fit(data[[col]])\n",
        "    new = pd.DataFrame(enc.transform(data[[col]]).todense(),\n",
        "                      columns = enc.get_feature_names(),\n",
        "                      index = data.index)\n",
        "    return data.join(new)"
      ],
      "id": "unexpected-fight",
      "execution_count": null,
      "outputs": []
    },
    {
      "cell_type": "code",
      "metadata": {
        "id": "dying-maria"
      },
      "source": [
        "new = ohe_col(new, 'ETHNICITY')\n",
        "new = ohe_col(new, 'DMA_NAME_ACXIOM')"
      ],
      "id": "dying-maria",
      "execution_count": null,
      "outputs": []
    },
    {
      "cell_type": "code",
      "metadata": {
        "id": "heated-corporation"
      },
      "source": [
        "new = new.set_index('Unnamed: 0')\n",
        "new.drop(['ZIP', 'STATE_ABBREVIATION', 'DMA_NAME_ACXIOM', 'ETHNICITY'], axis = 1, inplace = True)"
      ],
      "id": "heated-corporation",
      "execution_count": null,
      "outputs": []
    },
    {
      "cell_type": "code",
      "metadata": {
        "id": "shaped-syntax"
      },
      "source": [
        "new"
      ],
      "id": "shaped-syntax",
      "execution_count": null,
      "outputs": []
    },
    {
      "cell_type": "markdown",
      "metadata": {
        "id": "satisfactory-receipt"
      },
      "source": [
        "# Correlation Matrix"
      ],
      "id": "satisfactory-receipt"
    },
    {
      "cell_type": "code",
      "metadata": {
        "id": "exact-fault"
      },
      "source": [
        "LACorr = new.corr()\n",
        "LACorr"
      ],
      "id": "exact-fault",
      "execution_count": null,
      "outputs": []
    },
    {
      "cell_type": "code",
      "metadata": {
        "id": "superb-think",
        "outputId": "f582fdf1-69c0-4265-fb3e-0b3553216f2a"
      },
      "source": [
        "colormap = plt.cm.viridis\n",
        "plt.figure(figsize=(12,12))\n",
        "plt.title('Pearson Correlation of Features', y=1.05, size=15)\n",
        "sns.heatmap(new.corr().round(2)\\\n",
        "            ,linewidths=0.1,vmax=1.0, square=True, cmap=colormap, \\\n",
        "            linecolor='white', annot=True);"
      ],
      "id": "superb-think",
      "execution_count": null,
      "outputs": [
        {
          "output_type": "display_data",
          "data": {
            "image/png": "[encoded data removed]",
            "text/plain": [
              "<Figure size 864x864 with 2 Axes>"
            ]
          },
          "metadata": {
            "tags": [],
            "needs_background": "light"
          }
        }
      ]
    },
    {
      "cell_type": "markdown",
      "metadata": {
        "id": "patient-minority"
      },
      "source": [
        "# Methods"
      ],
      "id": "patient-minority"
    },
    {
      "cell_type": "code",
      "metadata": {
        "id": "waiting-moldova"
      },
      "source": [
        "def ohe_col(data, col):\n",
        "    enc = OneHotEncoder()\n",
        "    enc.fit(data[[col]])\n",
        "    new = pd.DataFrame(enc.transform(data[[col]]).todense(),\n",
        "                      columns = enc.get_feature_names(),\n",
        "                      index = data.index)\n",
        "    return data.join(new)"
      ],
      "id": "waiting-moldova",
      "execution_count": null,
      "outputs": []
    },
    {
      "cell_type": "code",
      "metadata": {
        "id": "stock-blanket"
      },
      "source": [
        "def process(df):\n",
        "    \n",
        "    df = df.dropna(axis = 0)\n",
        "    df['AGE'] = df['AGE'].astype(float).astype(int)\n",
        "    \n",
        "    df.loc[df['AGE'] <= 20, 'AGE'] = 0\n",
        "    df.loc[(df['AGE'] > 20) & (df['AGE'] <= 40), 'AGE'] = 1\n",
        "    df.loc[(df['AGE'] > 40) & (df['AGE'] <= 60), 'AGE'] = 2\n",
        "    df.loc[(df['AGE'] > 60) & (df['AGE'] <= 80), 'AGE'] = 3\n",
        "    df.loc[(df['AGE'] > 80) & (df['AGE'] <= 100), 'AGE'] = 4\n",
        "    df.loc[(df['AGE'] > 100) & (df['AGE'] <= 120), 'AGE'] = 5\n",
        "    \n",
        "    factor_dict = {\n",
        "        'GENDER': {\n",
        "            'M': 0,\n",
        "            'F': 1\n",
        "        },\n",
        "        'HOMEOWNERSHIP_STATUS': {\n",
        "            'Homeowner': 1,\n",
        "            'Renter': 0\n",
        "        },\n",
        "        'DEMO_HH_INCOME': {\n",
        "            'Less than $30,000': 0,\n",
        "            '$30,000 to $49,999': 1, \n",
        "            '$50,000 to $74,999': 2,\n",
        "            '$75,000 to $99,999': 3,\n",
        "            '$100,000 to $149,999': 4,\n",
        "            '$150,000 to $199,999': 5,\n",
        "            '$200,000 to $249,999': 6,\n",
        "            '$250,000 +': 7\n",
        "        },\n",
        "        'EDUCATION': {\n",
        "            'not_reported': 0,\n",
        "            'High School': 1,\n",
        "            'Vocational_or_Technical': 2,\n",
        "            'College': 3,\n",
        "            'Graduate School': 4\n",
        "        }\n",
        "    }\n",
        "    df = df.replace(factor_dict)\n",
        "    \n",
        "    df = ohe_col(df, 'ETHNICITY')\n",
        "    df = ohe_col(df, 'DMA_NAME_ACXIOM')\n",
        "    \n",
        "    df = df.set_index('Unnamed: 0')\n",
        "    df = df.drop(['ZIP', 'STATE_ABBREVIATION', 'DMA_NAME_ACXIOM', 'ETHNICITY'], axis = 1)\n",
        "    \n",
        "    return df"
      ],
      "id": "stock-blanket",
      "execution_count": null,
      "outputs": []
    },
    {
      "cell_type": "code",
      "metadata": {
        "id": "secondary-shopping"
      },
      "source": [
        "#dataframe with all the manipulations/slices\n",
        "def finalDF(df, featureDict):\n",
        "    for column in featureDict.keys():\n",
        "        new_df = pd.DataFrame()\n",
        "        attributes = featureDict[column]\n",
        "        for attribute in attributes:\n",
        "            new_df = new_df.append(df[df[column] == attribute])\n",
        "        df = new_df\n",
        "    return df"
      ],
      "id": "secondary-shopping",
      "execution_count": null,
      "outputs": []
    },
    {
      "cell_type": "code",
      "metadata": {
        "id": "explicit-leader"
      },
      "source": [
        "def corrMatrix(df):\n",
        "    return df.corr()"
      ],
      "id": "explicit-leader",
      "execution_count": null,
      "outputs": []
    },
    {
      "cell_type": "code",
      "metadata": {
        "id": "olympic-juice"
      },
      "source": [
        "#step by step slicing (same as finalDF except only considering one column slice at a time)\n",
        "def stepSlice(df, featureDict, column):\n",
        "    new_df = pd.DataFrame()\n",
        "    attributes = featureDict[column]\n",
        "    for attribute in attributes:\n",
        "        new_df = new_df.append(df[df[column] == attribute])\n",
        "    df = new_df\n",
        "    return df"
      ],
      "id": "olympic-juice",
      "execution_count": null,
      "outputs": []
    },
    {
      "cell_type": "code",
      "metadata": {
        "id": "capable-norway"
      },
      "source": [
        "#encode selected features to match processed data frame\n",
        "def encode(featureDict, encodeDict):\n",
        "    encodedFeatures = {}\n",
        "    for column in featureDict.keys():\n",
        "        attributes = featureDict[column]\n",
        "        if column in encodeDict.keys():\n",
        "            encodedAttributes = list()\n",
        "            for attribute in attributes:\n",
        "                newAttribute = encodeDict[column][attribute]\n",
        "                encodedAttributes.append(newAttribute)\n",
        "            encodedFeatures[column] = encodedAttributes\n",
        "        else:\n",
        "            encodedFeatures[column] = attributes\n",
        "    return encodedFeatures"
      ],
      "id": "capable-norway",
      "execution_count": null,
      "outputs": []
    },
    {
      "cell_type": "code",
      "metadata": {
        "id": "million-album"
      },
      "source": [
        "encodeDict = {\n",
        "    'GENDER': {\n",
        "        'M': 0,\n",
        "        'F': 1\n",
        "    },\n",
        "    'HOMEOWNERSHIP_STATUS': {\n",
        "        'Homeowner': 1,\n",
        "        'Renter': 0\n",
        "    },\n",
        "    'DEMO_HH_INCOME': {\n",
        "        'Less than $30,000': 0,\n",
        "        '$30,000 to $49,999': 1, \n",
        "        '$50,000 to $74,999': 2,\n",
        "        '$75,000 to $99,999': 3,\n",
        "        '$100,000 to $149,999': 4,\n",
        "        '$150,000 to $199,999': 5,\n",
        "        '$200,000 to $249,999': 6,\n",
        "        '$250,000 +': 7\n",
        "    },\n",
        "    'EDUCATION': {\n",
        "        'not_reported': 0,\n",
        "        'High School': 1,\n",
        "        'Vocational_or_Technical': 2,\n",
        "        'College': 3,\n",
        "        'Graduate School': 4\n",
        "    },\n",
        "    'AGE': {\n",
        "        'Less than 21': 0,\n",
        "        '21 to 40': 1,\n",
        "        '41 to 60': 2,\n",
        "        '61 to 80': 3,\n",
        "        '81 to 100': 4,\n",
        "        '101 to 120': 5\n",
        "    }\n",
        "}"
      ],
      "id": "million-album",
      "execution_count": null,
      "outputs": []
    },
    {
      "cell_type": "markdown",
      "metadata": {
        "id": "ethical-failing"
      },
      "source": [
        "# Testing Section"
      ],
      "id": "ethical-failing"
    },
    {
      "cell_type": "code",
      "metadata": {
        "id": "crazy-steel"
      },
      "source": [
        "selectedFeatures = {\n",
        "    'AGE': ['21 to 40', '41 to 60'], \n",
        "    'HOMEOWNERSHIP_STATUS': ['Homeowner'], \n",
        "    'EDUCATION': ['College', 'Graduate School'], \n",
        "    'DEMO_HH_INCOME': ['$75,000 to $99,999','$100,000 to $149,999', '$150,000 to $199,999']\n",
        "}"
      ],
      "id": "crazy-steel",
      "execution_count": null,
      "outputs": []
    },
    {
      "cell_type": "code",
      "metadata": {
        "id": "breeding-tulsa",
        "outputId": "3c11cbe5-f9c0-4c97-93dd-1a35466de039"
      },
      "source": [
        "dataframeDict = {'original': None}\n",
        "correlationDict = {'original': None}\n",
        "\n",
        "test = LA.copy(deep = True)\n",
        "original = process(test)\n",
        "dataframeDict['original'] = original\n",
        "correlationDict['original'] = corrMatrix(original)\n",
        "\n",
        "encodedFeatures = encode(selectedFeatures, encodeDict)\n",
        "\n",
        "#sliceOrder = list()\n",
        "temp = original\n",
        "for column in encodedFeatures.keys():\n",
        "    slicedDF = stepSlice(new, encodedFeatures, column)\n",
        "    dataframeDict[column] = slicedDF\n",
        "    correlationDict[column] = corrMatrix(slicedDF)\n",
        "    #sliceOrder.append(column)\n",
        "    new = slicedDF"
      ],
      "id": "breeding-tulsa",
      "execution_count": null,
      "outputs": [
        {
          "output_type": "stream",
          "text": [
            "<ipython-input-15-630c587097d6>:4: SettingWithCopyWarning: \n",
            "A value is trying to be set on a copy of a slice from a DataFrame.\n",
            "Try using .loc[row_indexer,col_indexer] = value instead\n",
            "\n",
            "See the caveats in the documentation: https://pandas.pydata.org/pandas-docs/stable/user_guide/indexing.html#returning-a-view-versus-a-copy\n",
            "  df['AGE'] = df['AGE'].astype(float).astype(int)\n",
            "/Users/michellegu/miniconda3/lib/python3.8/site-packages/pandas/core/indexing.py:1720: SettingWithCopyWarning: \n",
            "A value is trying to be set on a copy of a slice from a DataFrame.\n",
            "Try using .loc[row_indexer,col_indexer] = value instead\n",
            "\n",
            "See the caveats in the documentation: https://pandas.pydata.org/pandas-docs/stable/user_guide/indexing.html#returning-a-view-versus-a-copy\n",
            "  self._setitem_single_column(loc, value, pi)\n",
            "/Users/michellegu/miniconda3/lib/python3.8/site-packages/pandas/core/indexing.py:1720: SettingWithCopyWarning: \n",
            "A value is trying to be set on a copy of a slice from a DataFrame.\n",
            "Try using .loc[row_indexer,col_indexer] = value instead\n",
            "\n",
            "See the caveats in the documentation: https://pandas.pydata.org/pandas-docs/stable/user_guide/indexing.html#returning-a-view-versus-a-copy\n",
            "  self._setitem_single_column(loc, value, pi)\n",
            "/Users/michellegu/miniconda3/lib/python3.8/site-packages/pandas/core/indexing.py:1720: SettingWithCopyWarning: \n",
            "A value is trying to be set on a copy of a slice from a DataFrame.\n",
            "Try using .loc[row_indexer,col_indexer] = value instead\n",
            "\n",
            "See the caveats in the documentation: https://pandas.pydata.org/pandas-docs/stable/user_guide/indexing.html#returning-a-view-versus-a-copy\n",
            "  self._setitem_single_column(loc, value, pi)\n",
            "/Users/michellegu/miniconda3/lib/python3.8/site-packages/pandas/core/indexing.py:1720: SettingWithCopyWarning: \n",
            "A value is trying to be set on a copy of a slice from a DataFrame.\n",
            "Try using .loc[row_indexer,col_indexer] = value instead\n",
            "\n",
            "See the caveats in the documentation: https://pandas.pydata.org/pandas-docs/stable/user_guide/indexing.html#returning-a-view-versus-a-copy\n",
            "  self._setitem_single_column(loc, value, pi)\n",
            "/Users/michellegu/miniconda3/lib/python3.8/site-packages/pandas/core/indexing.py:1720: SettingWithCopyWarning: \n",
            "A value is trying to be set on a copy of a slice from a DataFrame.\n",
            "Try using .loc[row_indexer,col_indexer] = value instead\n",
            "\n",
            "See the caveats in the documentation: https://pandas.pydata.org/pandas-docs/stable/user_guide/indexing.html#returning-a-view-versus-a-copy\n",
            "  self._setitem_single_column(loc, value, pi)\n",
            "/Users/michellegu/miniconda3/lib/python3.8/site-packages/pandas/core/indexing.py:1720: SettingWithCopyWarning: \n",
            "A value is trying to be set on a copy of a slice from a DataFrame.\n",
            "Try using .loc[row_indexer,col_indexer] = value instead\n",
            "\n",
            "See the caveats in the documentation: https://pandas.pydata.org/pandas-docs/stable/user_guide/indexing.html#returning-a-view-versus-a-copy\n",
            "  self._setitem_single_column(loc, value, pi)\n"
          ],
          "name": "stderr"
        }
      ]
    },
    {
      "cell_type": "code",
      "metadata": {
        "id": "german-format",
        "outputId": "9ea94b09-60c3-475b-9ad7-c8436abe208f"
      },
      "source": [
        "dataframeDict['AGE']"
      ],
      "id": "german-format",
      "execution_count": null,
      "outputs": [
        {
          "output_type": "execute_result",
          "data": {
            "text/html": [
              "<div>\n",
              "<style scoped>\n",
              "    .dataframe tbody tr th:only-of-type {\n",
              "        vertical-align: middle;\n",
              "    }\n",
              "\n",
              "    .dataframe tbody tr th {\n",
              "        vertical-align: top;\n",
              "    }\n",
              "\n",
              "    .dataframe thead th {\n",
              "        text-align: right;\n",
              "    }\n",
              "</style>\n",
              "<table border=\"1\" class=\"dataframe\">\n",
              "  <thead>\n",
              "    <tr style=\"text-align: right;\">\n",
              "      <th></th>\n",
              "      <th>GENDER</th>\n",
              "      <th>AGE</th>\n",
              "      <th>DEMO_HH_INCOME</th>\n",
              "      <th>HOMEOWNERSHIP_STATUS</th>\n",
              "      <th>EDUCATION</th>\n",
              "      <th>x0_African American</th>\n",
              "      <th>x0_Asian</th>\n",
              "      <th>x0_Hispanic</th>\n",
              "      <th>x0_White</th>\n",
              "      <th>x0_Alexandria LA</th>\n",
              "      <th>x0_Baton Rouge</th>\n",
              "      <th>x0_Jackson, MS</th>\n",
              "      <th>x0_Lafayette, LA</th>\n",
              "      <th>x0_Lake Charles</th>\n",
              "      <th>x0_Monroe-El Dorado</th>\n",
              "      <th>x0_New Orleans</th>\n",
              "      <th>x0_Shreveport</th>\n",
              "    </tr>\n",
              "    <tr>\n",
              "      <th>Unnamed: 0</th>\n",
              "      <th></th>\n",
              "      <th></th>\n",
              "      <th></th>\n",
              "      <th></th>\n",
              "      <th></th>\n",
              "      <th></th>\n",
              "      <th></th>\n",
              "      <th></th>\n",
              "      <th></th>\n",
              "      <th></th>\n",
              "      <th></th>\n",
              "      <th></th>\n",
              "      <th></th>\n",
              "      <th></th>\n",
              "      <th></th>\n",
              "      <th></th>\n",
              "      <th></th>\n",
              "    </tr>\n",
              "  </thead>\n",
              "  <tbody>\n",
              "    <tr>\n",
              "      <th>1</th>\n",
              "      <td>1</td>\n",
              "      <td>1</td>\n",
              "      <td>4</td>\n",
              "      <td>0</td>\n",
              "      <td>3</td>\n",
              "      <td>0.0</td>\n",
              "      <td>0.0</td>\n",
              "      <td>0.0</td>\n",
              "      <td>1.0</td>\n",
              "      <td>0.0</td>\n",
              "      <td>0.0</td>\n",
              "      <td>0.0</td>\n",
              "      <td>0.0</td>\n",
              "      <td>0.0</td>\n",
              "      <td>0.0</td>\n",
              "      <td>1.0</td>\n",
              "      <td>0.0</td>\n",
              "    </tr>\n",
              "    <tr>\n",
              "      <th>8</th>\n",
              "      <td>1</td>\n",
              "      <td>1</td>\n",
              "      <td>1</td>\n",
              "      <td>0</td>\n",
              "      <td>0</td>\n",
              "      <td>0.0</td>\n",
              "      <td>0.0</td>\n",
              "      <td>0.0</td>\n",
              "      <td>1.0</td>\n",
              "      <td>0.0</td>\n",
              "      <td>0.0</td>\n",
              "      <td>0.0</td>\n",
              "      <td>0.0</td>\n",
              "      <td>0.0</td>\n",
              "      <td>0.0</td>\n",
              "      <td>1.0</td>\n",
              "      <td>0.0</td>\n",
              "    </tr>\n",
              "    <tr>\n",
              "      <th>15</th>\n",
              "      <td>0</td>\n",
              "      <td>1</td>\n",
              "      <td>0</td>\n",
              "      <td>0</td>\n",
              "      <td>0</td>\n",
              "      <td>0.0</td>\n",
              "      <td>0.0</td>\n",
              "      <td>0.0</td>\n",
              "      <td>1.0</td>\n",
              "      <td>0.0</td>\n",
              "      <td>0.0</td>\n",
              "      <td>0.0</td>\n",
              "      <td>0.0</td>\n",
              "      <td>0.0</td>\n",
              "      <td>1.0</td>\n",
              "      <td>0.0</td>\n",
              "      <td>0.0</td>\n",
              "    </tr>\n",
              "    <tr>\n",
              "      <th>30</th>\n",
              "      <td>0</td>\n",
              "      <td>1</td>\n",
              "      <td>0</td>\n",
              "      <td>1</td>\n",
              "      <td>1</td>\n",
              "      <td>0.0</td>\n",
              "      <td>0.0</td>\n",
              "      <td>0.0</td>\n",
              "      <td>1.0</td>\n",
              "      <td>0.0</td>\n",
              "      <td>0.0</td>\n",
              "      <td>0.0</td>\n",
              "      <td>1.0</td>\n",
              "      <td>0.0</td>\n",
              "      <td>0.0</td>\n",
              "      <td>0.0</td>\n",
              "      <td>0.0</td>\n",
              "    </tr>\n",
              "    <tr>\n",
              "      <th>47</th>\n",
              "      <td>1</td>\n",
              "      <td>1</td>\n",
              "      <td>2</td>\n",
              "      <td>1</td>\n",
              "      <td>1</td>\n",
              "      <td>0.0</td>\n",
              "      <td>0.0</td>\n",
              "      <td>0.0</td>\n",
              "      <td>1.0</td>\n",
              "      <td>0.0</td>\n",
              "      <td>0.0</td>\n",
              "      <td>0.0</td>\n",
              "      <td>0.0</td>\n",
              "      <td>0.0</td>\n",
              "      <td>0.0</td>\n",
              "      <td>0.0</td>\n",
              "      <td>1.0</td>\n",
              "    </tr>\n",
              "    <tr>\n",
              "      <th>...</th>\n",
              "      <td>...</td>\n",
              "      <td>...</td>\n",
              "      <td>...</td>\n",
              "      <td>...</td>\n",
              "      <td>...</td>\n",
              "      <td>...</td>\n",
              "      <td>...</td>\n",
              "      <td>...</td>\n",
              "      <td>...</td>\n",
              "      <td>...</td>\n",
              "      <td>...</td>\n",
              "      <td>...</td>\n",
              "      <td>...</td>\n",
              "      <td>...</td>\n",
              "      <td>...</td>\n",
              "      <td>...</td>\n",
              "      <td>...</td>\n",
              "    </tr>\n",
              "    <tr>\n",
              "      <th>3710298</th>\n",
              "      <td>0</td>\n",
              "      <td>2</td>\n",
              "      <td>2</td>\n",
              "      <td>1</td>\n",
              "      <td>0</td>\n",
              "      <td>0.0</td>\n",
              "      <td>0.0</td>\n",
              "      <td>0.0</td>\n",
              "      <td>1.0</td>\n",
              "      <td>0.0</td>\n",
              "      <td>0.0</td>\n",
              "      <td>0.0</td>\n",
              "      <td>0.0</td>\n",
              "      <td>0.0</td>\n",
              "      <td>1.0</td>\n",
              "      <td>0.0</td>\n",
              "      <td>0.0</td>\n",
              "    </tr>\n",
              "    <tr>\n",
              "      <th>3710301</th>\n",
              "      <td>0</td>\n",
              "      <td>2</td>\n",
              "      <td>4</td>\n",
              "      <td>0</td>\n",
              "      <td>0</td>\n",
              "      <td>1.0</td>\n",
              "      <td>0.0</td>\n",
              "      <td>0.0</td>\n",
              "      <td>0.0</td>\n",
              "      <td>0.0</td>\n",
              "      <td>1.0</td>\n",
              "      <td>0.0</td>\n",
              "      <td>0.0</td>\n",
              "      <td>0.0</td>\n",
              "      <td>0.0</td>\n",
              "      <td>0.0</td>\n",
              "      <td>0.0</td>\n",
              "    </tr>\n",
              "    <tr>\n",
              "      <th>3710305</th>\n",
              "      <td>0</td>\n",
              "      <td>2</td>\n",
              "      <td>0</td>\n",
              "      <td>0</td>\n",
              "      <td>0</td>\n",
              "      <td>1.0</td>\n",
              "      <td>0.0</td>\n",
              "      <td>0.0</td>\n",
              "      <td>0.0</td>\n",
              "      <td>0.0</td>\n",
              "      <td>0.0</td>\n",
              "      <td>0.0</td>\n",
              "      <td>0.0</td>\n",
              "      <td>0.0</td>\n",
              "      <td>0.0</td>\n",
              "      <td>1.0</td>\n",
              "      <td>0.0</td>\n",
              "    </tr>\n",
              "    <tr>\n",
              "      <th>3710309</th>\n",
              "      <td>1</td>\n",
              "      <td>2</td>\n",
              "      <td>4</td>\n",
              "      <td>1</td>\n",
              "      <td>4</td>\n",
              "      <td>0.0</td>\n",
              "      <td>0.0</td>\n",
              "      <td>0.0</td>\n",
              "      <td>1.0</td>\n",
              "      <td>0.0</td>\n",
              "      <td>0.0</td>\n",
              "      <td>0.0</td>\n",
              "      <td>1.0</td>\n",
              "      <td>0.0</td>\n",
              "      <td>0.0</td>\n",
              "      <td>0.0</td>\n",
              "      <td>0.0</td>\n",
              "    </tr>\n",
              "    <tr>\n",
              "      <th>3710313</th>\n",
              "      <td>0</td>\n",
              "      <td>2</td>\n",
              "      <td>3</td>\n",
              "      <td>1</td>\n",
              "      <td>3</td>\n",
              "      <td>0.0</td>\n",
              "      <td>0.0</td>\n",
              "      <td>1.0</td>\n",
              "      <td>0.0</td>\n",
              "      <td>0.0</td>\n",
              "      <td>0.0</td>\n",
              "      <td>0.0</td>\n",
              "      <td>0.0</td>\n",
              "      <td>0.0</td>\n",
              "      <td>0.0</td>\n",
              "      <td>1.0</td>\n",
              "      <td>0.0</td>\n",
              "    </tr>\n",
              "  </tbody>\n",
              "</table>\n",
              "<p>2181404 rows × 17 columns</p>\n",
              "</div>"
            ],
            "text/plain": [
              "            GENDER  AGE  DEMO_HH_INCOME  HOMEOWNERSHIP_STATUS  EDUCATION  \\\n",
              "Unnamed: 0                                                                 \n",
              "1                1    1               4                     0          3   \n",
              "8                1    1               1                     0          0   \n",
              "15               0    1               0                     0          0   \n",
              "30               0    1               0                     1          1   \n",
              "47               1    1               2                     1          1   \n",
              "...            ...  ...             ...                   ...        ...   \n",
              "3710298          0    2               2                     1          0   \n",
              "3710301          0    2               4                     0          0   \n",
              "3710305          0    2               0                     0          0   \n",
              "3710309          1    2               4                     1          4   \n",
              "3710313          0    2               3                     1          3   \n",
              "\n",
              "            x0_African American  x0_Asian  x0_Hispanic  x0_White  \\\n",
              "Unnamed: 0                                                         \n",
              "1                           0.0       0.0          0.0       1.0   \n",
              "8                           0.0       0.0          0.0       1.0   \n",
              "15                          0.0       0.0          0.0       1.0   \n",
              "30                          0.0       0.0          0.0       1.0   \n",
              "47                          0.0       0.0          0.0       1.0   \n",
              "...                         ...       ...          ...       ...   \n",
              "3710298                     0.0       0.0          0.0       1.0   \n",
              "3710301                     1.0       0.0          0.0       0.0   \n",
              "3710305                     1.0       0.0          0.0       0.0   \n",
              "3710309                     0.0       0.0          0.0       1.0   \n",
              "3710313                     0.0       0.0          1.0       0.0   \n",
              "\n",
              "            x0_Alexandria LA  x0_Baton Rouge  x0_Jackson, MS  \\\n",
              "Unnamed: 0                                                     \n",
              "1                        0.0             0.0             0.0   \n",
              "8                        0.0             0.0             0.0   \n",
              "15                       0.0             0.0             0.0   \n",
              "30                       0.0             0.0             0.0   \n",
              "47                       0.0             0.0             0.0   \n",
              "...                      ...             ...             ...   \n",
              "3710298                  0.0             0.0             0.0   \n",
              "3710301                  0.0             1.0             0.0   \n",
              "3710305                  0.0             0.0             0.0   \n",
              "3710309                  0.0             0.0             0.0   \n",
              "3710313                  0.0             0.0             0.0   \n",
              "\n",
              "            x0_Lafayette, LA  x0_Lake Charles  x0_Monroe-El Dorado  \\\n",
              "Unnamed: 0                                                           \n",
              "1                        0.0              0.0                  0.0   \n",
              "8                        0.0              0.0                  0.0   \n",
              "15                       0.0              0.0                  1.0   \n",
              "30                       1.0              0.0                  0.0   \n",
              "47                       0.0              0.0                  0.0   \n",
              "...                      ...              ...                  ...   \n",
              "3710298                  0.0              0.0                  1.0   \n",
              "3710301                  0.0              0.0                  0.0   \n",
              "3710305                  0.0              0.0                  0.0   \n",
              "3710309                  1.0              0.0                  0.0   \n",
              "3710313                  0.0              0.0                  0.0   \n",
              "\n",
              "            x0_New Orleans  x0_Shreveport  \n",
              "Unnamed: 0                                 \n",
              "1                      1.0            0.0  \n",
              "8                      1.0            0.0  \n",
              "15                     0.0            0.0  \n",
              "30                     0.0            0.0  \n",
              "47                     0.0            1.0  \n",
              "...                    ...            ...  \n",
              "3710298                0.0            0.0  \n",
              "3710301                0.0            0.0  \n",
              "3710305                1.0            0.0  \n",
              "3710309                0.0            0.0  \n",
              "3710313                1.0            0.0  \n",
              "\n",
              "[2181404 rows x 17 columns]"
            ]
          },
          "metadata": {
            "tags": []
          },
          "execution_count": 23
        }
      ]
    },
    {
      "cell_type": "markdown",
      "metadata": {
        "id": "lovely-julian"
      },
      "source": [
        "# Demo\n",
        "\n",
        "## Instructions\n",
        "\n",
        "1. manipulate original dataframe by simulating company selection of features\n",
        "2. process data after selecting feature\n",
        "3. create new correlation matrix\n",
        "4. flag major changes\n",
        "\n",
        "## Simulation\n",
        "\n",
        "Toyota Sienna Advertisement\n",
        "- Age:\n",
        "- Household income:\n",
        "- Education:\n",
        "- Gender:\n",
        "- Ethnicity:\n",
        "- City/cities:\n",
        "- Homeowner Status:"
      ],
      "id": "lovely-julian"
    },
    {
      "cell_type": "markdown",
      "metadata": {
        "id": "novel-brook"
      },
      "source": [
        "# Sources\n",
        "- https://github.com/scetx/datax/blob/master/01-data-x-fundamentals/m160-titanic/nb-m160-titanic.ipynb"
      ],
      "id": "novel-brook"
    },
    {
      "cell_type": "markdown",
      "metadata": {
        "id": "signal-start"
      },
      "source": [
        "# Notes\n",
        "\n",
        "- create a state dictionary"
      ],
      "id": "signal-start"
    },
    {
      "cell_type": "code",
      "metadata": {
        "id": "rational-visiting"
      },
      "source": [
        ""
      ],
      "id": "rational-visiting",
      "execution_count": null,
      "outputs": []
    }
  ]
}