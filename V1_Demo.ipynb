{
 "cells": [
  {
   "cell_type": "code",
   "execution_count": 26,
   "metadata": {
    "id": "N26IVBwOGWxN"
   },
   "outputs": [],
   "source": [
    "import numpy as np\n",
    "import pandas as pd\n",
    "import matplotlib as plt\n",
    "import sys\n",
    "assert 'zipfile' in sys.modules\n",
    "import math\n",
    "import seaborn as sns\n",
    "import matplotlib.pyplot as plt\n",
    "\n",
    "# import the widgets module\n",
    "\n",
    "import scipy.stats as ss\n",
    "from collections import Counter\n",
    "import warnings\n",
    "from sklearn.preprocessing import OneHotEncoder\n",
    "\n",
    "# Authenticate and create the PyDrive client."
   ]
  },
  {
   "cell_type": "markdown",
   "metadata": {
    "id": "98T70a19GPAV"
   },
   "source": [
    "# MODEL PROTOTYPE V.1:\n"
   ]
  },
  {
   "cell_type": "markdown",
   "metadata": {
    "id": "DZNhpv8mhiz6"
   },
   "source": [
    "## The Narrative: \n",
    "Our product is a solution to an industry-wide dilemma of how to keep data unbiased once put through a workflow. We want to ensure that the data accurately represents the population of the datafied world. Our goal is to ultimately make a tool useful to Kinesso, and in general advertisement firms and their clients, who would want their actual audience pool to be wider and more representative of the intended audience.\n",
    "\n"
   ]
  },
  {
   "cell_type": "markdown",
   "metadata": {
    "id": "up76zreah6ne"
   },
   "source": [
    "## The Solution: \n",
    "\n",
    "A common fix to unbiasing the data is to keep on introducing new clean data. However, the data inevitably is sullied. Our solution tackles bias during the early stages of workflow, specifically during audience assembly. The product will accompany the SQL like workflow of Kinesso in building their audiences for campaigns, and alarm the user when there is potential bias in their audience selection.\n"
   ]
  },
  {
   "cell_type": "markdown",
   "metadata": {
    "id": "ufogngjVzizW"
   },
   "source": [
    "EXAMPLE OF WORKFLOW WITH SOME EDA: "
   ]
  },
  {
   "cell_type": "markdown",
   "metadata": {
    "id": "iVc6UhQ_znAx"
   },
   "source": [
    "**disclaimer: the following scenario is a very simplified version of what actually happens in the real world** \n",
    "\n",
    "Our client Toyota asks us to help them run a campaign in LA. We go to our vast database and start building an audience. We start with a vast dataset of past log events with geographical information. \n",
    " \n"
   ]
  },
  {
   "cell_type": "code",
   "execution_count": 27,
   "metadata": {
    "id": "CkJkje9RGWxW"
   },
   "outputs": [
    {
     "data": {
      "text/html": [
       "<div>\n",
       "<style scoped>\n",
       "    .dataframe tbody tr th:only-of-type {\n",
       "        vertical-align: middle;\n",
       "    }\n",
       "\n",
       "    .dataframe tbody tr th {\n",
       "        vertical-align: top;\n",
       "    }\n",
       "\n",
       "    .dataframe thead th {\n",
       "        text-align: right;\n",
       "    }\n",
       "</style>\n",
       "<table border=\"1\" class=\"dataframe\">\n",
       "  <thead>\n",
       "    <tr style=\"text-align: right;\">\n",
       "      <th></th>\n",
       "      <th>Unnamed: 0</th>\n",
       "      <th>ZIP</th>\n",
       "      <th>GENDER</th>\n",
       "      <th>AGE</th>\n",
       "      <th>STATE_ABBREVIATION</th>\n",
       "      <th>DMA_NAME_ACXIOM</th>\n",
       "      <th>DEMO_HH_INCOME</th>\n",
       "      <th>ETHNICITY</th>\n",
       "      <th>HOMEOWNERSHIP_STATUS</th>\n",
       "      <th>EDUCATION</th>\n",
       "    </tr>\n",
       "  </thead>\n",
       "  <tbody>\n",
       "    <tr>\n",
       "      <th>0</th>\n",
       "      <td>0</td>\n",
       "      <td>71202</td>\n",
       "      <td>M</td>\n",
       "      <td>67.0</td>\n",
       "      <td>LA</td>\n",
       "      <td>Monroe-El Dorado</td>\n",
       "      <td>$30,000 to $49,999</td>\n",
       "      <td>African American</td>\n",
       "      <td>Homeowner</td>\n",
       "      <td>High School</td>\n",
       "    </tr>\n",
       "    <tr>\n",
       "      <th>1</th>\n",
       "      <td>1</td>\n",
       "      <td>70438</td>\n",
       "      <td>F</td>\n",
       "      <td>33.0</td>\n",
       "      <td>LA</td>\n",
       "      <td>New Orleans</td>\n",
       "      <td>$100,000 to $149,999</td>\n",
       "      <td>White</td>\n",
       "      <td>Renter</td>\n",
       "      <td>College</td>\n",
       "    </tr>\n",
       "    <tr>\n",
       "      <th>2</th>\n",
       "      <td>2</td>\n",
       "      <td>70770</td>\n",
       "      <td>F</td>\n",
       "      <td>59.0</td>\n",
       "      <td>LA</td>\n",
       "      <td>Baton Rouge</td>\n",
       "      <td>Less than $30,000</td>\n",
       "      <td>White</td>\n",
       "      <td>Homeowner</td>\n",
       "      <td>College</td>\n",
       "    </tr>\n",
       "    <tr>\n",
       "      <th>3</th>\n",
       "      <td>3</td>\n",
       "      <td>71108</td>\n",
       "      <td>F</td>\n",
       "      <td>63.0</td>\n",
       "      <td>LA</td>\n",
       "      <td>Shreveport</td>\n",
       "      <td>$30,000 to $49,999</td>\n",
       "      <td>African American</td>\n",
       "      <td>Homeowner</td>\n",
       "      <td>College</td>\n",
       "    </tr>\n",
       "    <tr>\n",
       "      <th>4</th>\n",
       "      <td>4</td>\n",
       "      <td>70802</td>\n",
       "      <td>F</td>\n",
       "      <td>81.0</td>\n",
       "      <td>LA</td>\n",
       "      <td>Baton Rouge</td>\n",
       "      <td>Less than $30,000</td>\n",
       "      <td>African American</td>\n",
       "      <td>Homeowner</td>\n",
       "      <td>not_reported</td>\n",
       "    </tr>\n",
       "    <tr>\n",
       "      <th>5</th>\n",
       "      <td>5</td>\n",
       "      <td>70115</td>\n",
       "      <td>M</td>\n",
       "      <td>65.0</td>\n",
       "      <td>LA</td>\n",
       "      <td>New Orleans</td>\n",
       "      <td>$30,000 to $49,999</td>\n",
       "      <td>African American</td>\n",
       "      <td>Renter</td>\n",
       "      <td>not_reported</td>\n",
       "    </tr>\n",
       "    <tr>\n",
       "      <th>6</th>\n",
       "      <td>6</td>\n",
       "      <td>70118</td>\n",
       "      <td>F</td>\n",
       "      <td>59.0</td>\n",
       "      <td>LA</td>\n",
       "      <td>New Orleans</td>\n",
       "      <td>Less than $30,000</td>\n",
       "      <td>White</td>\n",
       "      <td>Homeowner</td>\n",
       "      <td>not_reported</td>\n",
       "    </tr>\n",
       "    <tr>\n",
       "      <th>7</th>\n",
       "      <td>7</td>\n",
       "      <td>70117</td>\n",
       "      <td>M</td>\n",
       "      <td>19.0</td>\n",
       "      <td>LA</td>\n",
       "      <td>New Orleans</td>\n",
       "      <td>Less than $30,000</td>\n",
       "      <td>African American</td>\n",
       "      <td>Renter</td>\n",
       "      <td>High School</td>\n",
       "    </tr>\n",
       "    <tr>\n",
       "      <th>8</th>\n",
       "      <td>8</td>\n",
       "      <td>70006</td>\n",
       "      <td>F</td>\n",
       "      <td>29.0</td>\n",
       "      <td>LA</td>\n",
       "      <td>New Orleans</td>\n",
       "      <td>$30,000 to $49,999</td>\n",
       "      <td>White</td>\n",
       "      <td>Renter</td>\n",
       "      <td>not_reported</td>\n",
       "    </tr>\n",
       "    <tr>\n",
       "      <th>9</th>\n",
       "      <td>9</td>\n",
       "      <td>70086</td>\n",
       "      <td>F</td>\n",
       "      <td>49.0</td>\n",
       "      <td>LA</td>\n",
       "      <td>New Orleans</td>\n",
       "      <td>$100,000 to $149,999</td>\n",
       "      <td>African American</td>\n",
       "      <td>Renter</td>\n",
       "      <td>College</td>\n",
       "    </tr>\n",
       "  </tbody>\n",
       "</table>\n",
       "</div>"
      ],
      "text/plain": [
       "   Unnamed: 0    ZIP GENDER   AGE STATE_ABBREVIATION   DMA_NAME_ACXIOM  \\\n",
       "0           0  71202      M  67.0                 LA  Monroe-El Dorado   \n",
       "1           1  70438      F  33.0                 LA       New Orleans   \n",
       "2           2  70770      F  59.0                 LA       Baton Rouge   \n",
       "3           3  71108      F  63.0                 LA        Shreveport   \n",
       "4           4  70802      F  81.0                 LA       Baton Rouge   \n",
       "5           5  70115      M  65.0                 LA       New Orleans   \n",
       "6           6  70118      F  59.0                 LA       New Orleans   \n",
       "7           7  70117      M  19.0                 LA       New Orleans   \n",
       "8           8  70006      F  29.0                 LA       New Orleans   \n",
       "9           9  70086      F  49.0                 LA       New Orleans   \n",
       "\n",
       "         DEMO_HH_INCOME         ETHNICITY HOMEOWNERSHIP_STATUS     EDUCATION  \n",
       "0    $30,000 to $49,999  African American            Homeowner   High School  \n",
       "1  $100,000 to $149,999             White               Renter       College  \n",
       "2     Less than $30,000             White            Homeowner       College  \n",
       "3    $30,000 to $49,999  African American            Homeowner       College  \n",
       "4     Less than $30,000  African American            Homeowner  not_reported  \n",
       "5    $30,000 to $49,999  African American               Renter  not_reported  \n",
       "6     Less than $30,000             White            Homeowner  not_reported  \n",
       "7     Less than $30,000  African American               Renter   High School  \n",
       "8    $30,000 to $49,999             White               Renter  not_reported  \n",
       "9  $100,000 to $149,999  African American               Renter       College  "
      ]
     },
     "execution_count": 27,
     "metadata": {},
     "output_type": "execute_result"
    }
   ],
   "source": [
    "df = pd.read_csv('Data/Audience_LA.csv')\n",
    "df.head(10)"
   ]
  },
  {
   "cell_type": "code",
   "execution_count": 28,
   "metadata": {
    "id": "1rMTJYPLLuqO"
   },
   "outputs": [],
   "source": [
    "df = df.replace('NaN',0)"
   ]
  },
  {
   "cell_type": "markdown",
   "metadata": {
    "id": "U2smKXTC3B90"
   },
   "source": [
    "\n",
    "Toyota asked us to find clients that would be interested in buying their Toyota Siennas! We start by looking for households that own homes, and that approximatley earn on average,[ a yearly household income of $111,500](https://motorandwheels.com/11-toyota-sienna-statistics-facts/#:~:text=Sienna%20buyers%20are%20younger%20than,yearly%20household%20income%20of%20%24111%2C500)."
   ]
  },
  {
   "cell_type": "code",
   "execution_count": 29,
   "metadata": {
    "id": "_fLwSpZmzea9"
   },
   "outputs": [],
   "source": [
    "sienna= df[df['HOMEOWNERSHIP_STATUS'] == 'Homeowner']"
   ]
  },
  {
   "cell_type": "code",
   "execution_count": 30,
   "metadata": {
    "id": "QggoeuRMGwBA"
   },
   "outputs": [
    {
     "data": {
      "text/plain": [
       "886037"
      ]
     },
     "execution_count": 30,
     "metadata": {},
     "output_type": "execute_result"
    }
   ],
   "source": [
    "len(df.index) - len(sienna.index) "
   ]
  },
  {
   "cell_type": "code",
   "execution_count": 31,
   "metadata": {
    "id": "eOGLslMDHQB5"
   },
   "outputs": [
    {
     "name": "stderr",
     "output_type": "stream",
     "text": [
      "<ipython-input-31-e9cb007d708e>:2: SettingWithCopyWarning: \n",
      "A value is trying to be set on a copy of a slice from a DataFrame.\n",
      "Try using .loc[row_indexer,col_indexer] = value instead\n",
      "\n",
      "See the caveats in the documentation: https://pandas.pydata.org/pandas-docs/stable/user_guide/indexing.html#returning-a-view-versus-a-copy\n",
      "  new_df['dataframe'] = 'df'\n",
      "<ipython-input-31-e9cb007d708e>:4: SettingWithCopyWarning: \n",
      "A value is trying to be set on a copy of a slice from a DataFrame.\n",
      "Try using .loc[row_indexer,col_indexer] = value instead\n",
      "\n",
      "See the caveats in the documentation: https://pandas.pydata.org/pandas-docs/stable/user_guide/indexing.html#returning-a-view-versus-a-copy\n",
      "  new_df2['dataframe'] = 'sienna'\n"
     ]
    },
    {
     "data": {
      "text/plain": [
       "<seaborn.axisgrid.FacetGrid at 0x268861526d0>"
      ]
     },
     "execution_count": 31,
     "metadata": {},
     "output_type": "execute_result"
    },
    {
     "data": {
      "image/png": "[encoded data removed]",
      "text/plain": [
       "<Figure size 429.125x360 with 1 Axes>"
      ]
     },
     "metadata": {
      "needs_background": "light"
     },
     "output_type": "display_data"
    }
   ],
   "source": [
    "new_df = df[['ETHNICITY']]\n",
    "new_df['dataframe'] = 'df'\n",
    "new_df2 = sienna[['ETHNICITY']]\n",
    "new_df2['dataframe'] = 'sienna'\n",
    "combined = new_df.append(new_df2)\n",
    "combined\n",
    "\n",
    "sns.catplot(x = \"ETHNICITY\", kind=\"count\", hue = 'dataframe', data=combined) \n"
   ]
  },
  {
   "cell_type": "markdown",
   "metadata": {
    "id": "3d6b3qv_5v0F"
   },
   "source": []
  },
  {
   "cell_type": "code",
   "execution_count": 32,
   "metadata": {
    "id": "hvO2G2vI58Sp"
   },
   "outputs": [
    {
     "data": {
      "text/plain": [
       "array(['$30,000 to $49,999', '$100,000 to $149,999', 'Less than $30,000',\n",
       "       '$50,000 to $74,999', '$200,000 to $249,999', '$75,000 to $99,999',\n",
       "       '$250,000 +', '$150,000 to $199,999'], dtype=object)"
      ]
     },
     "execution_count": 32,
     "metadata": {},
     "output_type": "execute_result"
    }
   ],
   "source": [
    "df.DEMO_HH_INCOME.unique()"
   ]
  },
  {
   "cell_type": "code",
   "execution_count": 33,
   "metadata": {
    "id": "n8B_113Cltk3"
   },
   "outputs": [
    {
     "data": {
      "text/html": [
       "<div>\n",
       "<style scoped>\n",
       "    .dataframe tbody tr th:only-of-type {\n",
       "        vertical-align: middle;\n",
       "    }\n",
       "\n",
       "    .dataframe tbody tr th {\n",
       "        vertical-align: top;\n",
       "    }\n",
       "\n",
       "    .dataframe thead th {\n",
       "        text-align: right;\n",
       "    }\n",
       "</style>\n",
       "<table border=\"1\" class=\"dataframe\">\n",
       "  <thead>\n",
       "    <tr style=\"text-align: right;\">\n",
       "      <th></th>\n",
       "      <th>Unnamed: 0</th>\n",
       "      <th>ZIP</th>\n",
       "      <th>GENDER</th>\n",
       "      <th>AGE</th>\n",
       "      <th>STATE_ABBREVIATION</th>\n",
       "      <th>DMA_NAME_ACXIOM</th>\n",
       "      <th>DEMO_HH_INCOME</th>\n",
       "      <th>ETHNICITY</th>\n",
       "      <th>HOMEOWNERSHIP_STATUS</th>\n",
       "      <th>EDUCATION</th>\n",
       "    </tr>\n",
       "  </thead>\n",
       "  <tbody>\n",
       "    <tr>\n",
       "      <th>1</th>\n",
       "      <td>1</td>\n",
       "      <td>70438</td>\n",
       "      <td>F</td>\n",
       "      <td>33.0</td>\n",
       "      <td>LA</td>\n",
       "      <td>New Orleans</td>\n",
       "      <td>$100,000 to $149,999</td>\n",
       "      <td>White</td>\n",
       "      <td>Renter</td>\n",
       "      <td>College</td>\n",
       "    </tr>\n",
       "    <tr>\n",
       "      <th>9</th>\n",
       "      <td>9</td>\n",
       "      <td>70086</td>\n",
       "      <td>F</td>\n",
       "      <td>49.0</td>\n",
       "      <td>LA</td>\n",
       "      <td>New Orleans</td>\n",
       "      <td>$100,000 to $149,999</td>\n",
       "      <td>African American</td>\n",
       "      <td>Renter</td>\n",
       "      <td>College</td>\n",
       "    </tr>\n",
       "    <tr>\n",
       "      <th>16</th>\n",
       "      <td>16</td>\n",
       "      <td>70390</td>\n",
       "      <td>F</td>\n",
       "      <td>NaN</td>\n",
       "      <td>LA</td>\n",
       "      <td>Baton Rouge</td>\n",
       "      <td>$100,000 to $149,999</td>\n",
       "      <td>African American</td>\n",
       "      <td>Homeowner</td>\n",
       "      <td>not_reported</td>\n",
       "    </tr>\n",
       "    <tr>\n",
       "      <th>26</th>\n",
       "      <td>26</td>\n",
       "      <td>71107</td>\n",
       "      <td>F</td>\n",
       "      <td>53.0</td>\n",
       "      <td>LA</td>\n",
       "      <td>Shreveport</td>\n",
       "      <td>$100,000 to $149,999</td>\n",
       "      <td>White</td>\n",
       "      <td>Homeowner</td>\n",
       "      <td>High School</td>\n",
       "    </tr>\n",
       "    <tr>\n",
       "      <th>38</th>\n",
       "      <td>38</td>\n",
       "      <td>70726</td>\n",
       "      <td>F</td>\n",
       "      <td>45.0</td>\n",
       "      <td>LA</td>\n",
       "      <td>Baton Rouge</td>\n",
       "      <td>$100,000 to $149,999</td>\n",
       "      <td>White</td>\n",
       "      <td>Homeowner</td>\n",
       "      <td>not_reported</td>\n",
       "    </tr>\n",
       "    <tr>\n",
       "      <th>...</th>\n",
       "      <td>...</td>\n",
       "      <td>...</td>\n",
       "      <td>...</td>\n",
       "      <td>...</td>\n",
       "      <td>...</td>\n",
       "      <td>...</td>\n",
       "      <td>...</td>\n",
       "      <td>...</td>\n",
       "      <td>...</td>\n",
       "      <td>...</td>\n",
       "    </tr>\n",
       "    <tr>\n",
       "      <th>3710292</th>\n",
       "      <td>3710292</td>\n",
       "      <td>70665</td>\n",
       "      <td>M</td>\n",
       "      <td>51.0</td>\n",
       "      <td>LA</td>\n",
       "      <td>Lake Charles</td>\n",
       "      <td>$100,000 to $149,999</td>\n",
       "      <td>White</td>\n",
       "      <td>Homeowner</td>\n",
       "      <td>College</td>\n",
       "    </tr>\n",
       "    <tr>\n",
       "      <th>3710301</th>\n",
       "      <td>3710301</td>\n",
       "      <td>70737</td>\n",
       "      <td>M</td>\n",
       "      <td>51.0</td>\n",
       "      <td>LA</td>\n",
       "      <td>Baton Rouge</td>\n",
       "      <td>$100,000 to $149,999</td>\n",
       "      <td>African American</td>\n",
       "      <td>Renter</td>\n",
       "      <td>not_reported</td>\n",
       "    </tr>\n",
       "    <tr>\n",
       "      <th>3710302</th>\n",
       "      <td>3710302</td>\n",
       "      <td>71457</td>\n",
       "      <td>M</td>\n",
       "      <td>39.0</td>\n",
       "      <td>LA</td>\n",
       "      <td>Shreveport</td>\n",
       "      <td>$100,000 to $149,999</td>\n",
       "      <td>White</td>\n",
       "      <td>Homeowner</td>\n",
       "      <td>College</td>\n",
       "    </tr>\n",
       "    <tr>\n",
       "      <th>3710309</th>\n",
       "      <td>3710309</td>\n",
       "      <td>70548</td>\n",
       "      <td>F</td>\n",
       "      <td>57.0</td>\n",
       "      <td>LA</td>\n",
       "      <td>Lafayette, LA</td>\n",
       "      <td>$100,000 to $149,999</td>\n",
       "      <td>White</td>\n",
       "      <td>Homeowner</td>\n",
       "      <td>Graduate School</td>\n",
       "    </tr>\n",
       "    <tr>\n",
       "      <th>3710311</th>\n",
       "      <td>3710311</td>\n",
       "      <td>70122</td>\n",
       "      <td>F</td>\n",
       "      <td>NaN</td>\n",
       "      <td>LA</td>\n",
       "      <td>New Orleans</td>\n",
       "      <td>$100,000 to $149,999</td>\n",
       "      <td>Hispanic</td>\n",
       "      <td>Homeowner</td>\n",
       "      <td>not_reported</td>\n",
       "    </tr>\n",
       "  </tbody>\n",
       "</table>\n",
       "<p>413865 rows × 10 columns</p>\n",
       "</div>"
      ],
      "text/plain": [
       "         Unnamed: 0    ZIP GENDER   AGE STATE_ABBREVIATION DMA_NAME_ACXIOM  \\\n",
       "1                 1  70438      F  33.0                 LA     New Orleans   \n",
       "9                 9  70086      F  49.0                 LA     New Orleans   \n",
       "16               16  70390      F   NaN                 LA     Baton Rouge   \n",
       "26               26  71107      F  53.0                 LA      Shreveport   \n",
       "38               38  70726      F  45.0                 LA     Baton Rouge   \n",
       "...             ...    ...    ...   ...                ...             ...   \n",
       "3710292     3710292  70665      M  51.0                 LA    Lake Charles   \n",
       "3710301     3710301  70737      M  51.0                 LA     Baton Rouge   \n",
       "3710302     3710302  71457      M  39.0                 LA      Shreveport   \n",
       "3710309     3710309  70548      F  57.0                 LA   Lafayette, LA   \n",
       "3710311     3710311  70122      F   NaN                 LA     New Orleans   \n",
       "\n",
       "               DEMO_HH_INCOME         ETHNICITY HOMEOWNERSHIP_STATUS  \\\n",
       "1        $100,000 to $149,999             White               Renter   \n",
       "9        $100,000 to $149,999  African American               Renter   \n",
       "16       $100,000 to $149,999  African American            Homeowner   \n",
       "26       $100,000 to $149,999             White            Homeowner   \n",
       "38       $100,000 to $149,999             White            Homeowner   \n",
       "...                       ...               ...                  ...   \n",
       "3710292  $100,000 to $149,999             White            Homeowner   \n",
       "3710301  $100,000 to $149,999  African American               Renter   \n",
       "3710302  $100,000 to $149,999             White            Homeowner   \n",
       "3710309  $100,000 to $149,999             White            Homeowner   \n",
       "3710311  $100,000 to $149,999          Hispanic            Homeowner   \n",
       "\n",
       "               EDUCATION  \n",
       "1                College  \n",
       "9                College  \n",
       "16          not_reported  \n",
       "26           High School  \n",
       "38          not_reported  \n",
       "...                  ...  \n",
       "3710292          College  \n",
       "3710301     not_reported  \n",
       "3710302          College  \n",
       "3710309  Graduate School  \n",
       "3710311     not_reported  \n",
       "\n",
       "[413865 rows x 10 columns]"
      ]
     },
     "execution_count": 33,
     "metadata": {},
     "output_type": "execute_result"
    }
   ],
   "source": [
    "sienna_home= df[df['DEMO_HH_INCOME'] == '$100,000 to $149,999']\n",
    "sienna_home"
   ]
  },
  {
   "cell_type": "code",
   "execution_count": 34,
   "metadata": {
    "id": "zCOU6REQvoMm"
   },
   "outputs": [
    {
     "name": "stderr",
     "output_type": "stream",
     "text": [
      "<ipython-input-34-fddf9c1ef54e>:2: SettingWithCopyWarning: \n",
      "A value is trying to be set on a copy of a slice from a DataFrame.\n",
      "Try using .loc[row_indexer,col_indexer] = value instead\n",
      "\n",
      "See the caveats in the documentation: https://pandas.pydata.org/pandas-docs/stable/user_guide/indexing.html#returning-a-view-versus-a-copy\n",
      "  new_df['dataframe'] = 'sienna'\n",
      "<ipython-input-34-fddf9c1ef54e>:4: SettingWithCopyWarning: \n",
      "A value is trying to be set on a copy of a slice from a DataFrame.\n",
      "Try using .loc[row_indexer,col_indexer] = value instead\n",
      "\n",
      "See the caveats in the documentation: https://pandas.pydata.org/pandas-docs/stable/user_guide/indexing.html#returning-a-view-versus-a-copy\n",
      "  new_df2['dataframe'] = 'sienna_home'\n"
     ]
    },
    {
     "data": {
      "text/plain": [
       "2824281"
      ]
     },
     "execution_count": 34,
     "metadata": {},
     "output_type": "execute_result"
    },
    {
     "data": {
      "image/png": "[encoded data removed]",
      "text/plain": [
       "<Figure size 462.25x360 with 1 Axes>"
      ]
     },
     "metadata": {
      "needs_background": "light"
     },
     "output_type": "display_data"
    }
   ],
   "source": [
    "new_df = sienna[['ETHNICITY']]\n",
    "new_df['dataframe'] = 'sienna'\n",
    "new_df2 = sienna_home[['ETHNICITY']]\n",
    "new_df2['dataframe'] = 'sienna_home'\n",
    "combined = new_df.append(new_df2)\n",
    "combined\n",
    "\n",
    "sns.catplot(x = \"ETHNICITY\", kind=\"count\", hue = 'dataframe', data=combined) \n",
    "len(new_df.index) "
   ]
  },
  {
   "cell_type": "markdown",
   "metadata": {
    "id": "WI1gK9yByJtl"
   },
   "source": [
    "This is where the bias can already take place. Toyota asked me to sell a car that is geared for family life, and so I selected those who have houses. This already discluded a good portion of people who could have afforded this car, but who don't have houses. This is where our tool would at this point, raise a red flag!\n",
    " \n",
    "The following EDA is done to highlight additional insights to induced bias, or general insights on our data. "
   ]
  },
  {
   "cell_type": "markdown",
   "metadata": {
    "id": "mqtFfvty9PvW"
   },
   "source": [
    "### EDA"
   ]
  },
  {
   "cell_type": "code",
   "execution_count": 35,
   "metadata": {
    "id": "J_GG76TaTDqF"
   },
   "outputs": [
    {
     "data": {
      "text/plain": [
       "<AxesSubplot:xlabel='DEMO_HH_INCOME', ylabel='count'>"
      ]
     },
     "execution_count": 35,
     "metadata": {},
     "output_type": "execute_result"
    },
    {
     "data": {
      "image/png": "[encoded data removed]",
      "text/plain": [
       "<Figure size 1080x288 with 1 Axes>"
      ]
     },
     "metadata": {
      "needs_background": "light"
     },
     "output_type": "display_data"
    }
   ],
   "source": [
    "fig_dims = (15, 4)\n",
    "fig, ax = plt.subplots(figsize=fig_dims)\n",
    "\n",
    "sns.countplot(x=\"DEMO_HH_INCOME\", order = ['Less than $30,000', '$30,000 to $49,999', '$50,000 to $74,999', '$75,000 to $99,999', '$100,000 to $149,999', '$150,000 to $199,999', '$200,000 to $249,999', '$250,000 +'], ax = ax, data=df)"
   ]
  },
  {
   "cell_type": "markdown",
   "metadata": {
    "id": "vsFqsJbP4pT_"
   },
   "source": [
    "Simple count of how many people of each race are in each income bracket. All bars in each group should add to 100%"
   ]
  },
  {
   "cell_type": "code",
   "execution_count": 36,
   "metadata": {
    "id": "Va79I_6_sOeJ"
   },
   "outputs": [
    {
     "data": {
      "text/plain": [
       "<AxesSubplot:xlabel='DEMO_HH_INCOME', ylabel='count'>"
      ]
     },
     "execution_count": 36,
     "metadata": {},
     "output_type": "execute_result"
    },
    {
     "data": {
      "image/png": "[encoded data removed]",
      "text/plain": [
       "<Figure size 1080x288 with 1 Axes>"
      ]
     },
     "metadata": {
      "needs_background": "light"
     },
     "output_type": "display_data"
    }
   ],
   "source": [
    "fig_dims = (15, 4)\n",
    "fig, ax = plt.subplots(figsize=fig_dims)\n",
    "sns.countplot(x=\"DEMO_HH_INCOME\", order = ['Less than $30,000', '$30,000 to $49,999', '$50,000 to $74,999', '$75,000 to $99,999', \n",
    "                                           '$100,000 to $149,999', '$150,000 to $199,999', '$200,000 to $249,999', \n",
    "                                           '$250,000 +'], hue = 'ETHNICITY',hue_order = ['White', 'Asian', 'Hispanic', 'African American'],  ax = ax, data=df)"
   ]
  },
  {
   "cell_type": "markdown",
   "metadata": {
    "id": "l5WjHPf95Mt5"
   },
   "source": [
    "Normailzed count of how many people of each race are in each income bracket. All bars in each group should add to 100%. Sanity check - it should look very similar to the above graph."
   ]
  },
  {
   "cell_type": "code",
   "execution_count": 37,
   "metadata": {
    "id": "846K24U9sOg-"
   },
   "outputs": [
    {
     "data": {
      "text/plain": [
       "<AxesSubplot:xlabel='DEMO_HH_INCOME', ylabel='percent'>"
      ]
     },
     "execution_count": 37,
     "metadata": {},
     "output_type": "execute_result"
    },
    {
     "data": {
      "image/png": "[encoded data removed]",
      "text/plain": [
       "<Figure size 1080x288 with 1 Axes>"
      ]
     },
     "metadata": {
      "needs_background": "light"
     },
     "output_type": "display_data"
    }
   ],
   "source": [
    "fig_dims = (15, 4)\n",
    "fig, ax = plt.subplots(figsize=fig_dims)\n",
    "\n",
    "#sns.set(color_codes=True)\n",
    "\n",
    "df_plot = df\n",
    "\n",
    "x,y = 'DEMO_HH_INCOME', 'ETHNICITY'\n",
    "\n",
    "df_plot = df_plot.groupby(x)[y].value_counts(normalize=True).mul(100).rename('percent').reset_index()\n",
    "\n",
    "sns.barplot(x=x, y='percent', hue=y, order = ['Less than $30,000', '$30,000 to $49,999',\n",
    "                                              '$50,000 to $74,999', '$75,000 to $99,999', '$100,000 to $149,999', \n",
    "                                              '$150,000 to $199,999', '$200,000 to $249,999', \n",
    "                                              '$250,000 +'], hue_order = ['White', 'Asian', 'Hispanic', 'African American'], ax=ax, data = df_plot)"
   ]
  },
  {
   "cell_type": "markdown",
   "metadata": {
    "id": "oZlSoQSS5hts"
   },
   "source": [
    "Race by income - shows the percentage of people of a certain race who are in a certain bracket. All the bars for one race add to 100%"
   ]
  },
  {
   "cell_type": "code",
   "execution_count": 38,
   "metadata": {
    "id": "3jwxAYxhsOqS"
   },
   "outputs": [
    {
     "data": {
      "text/plain": [
       "<AxesSubplot:xlabel='DEMO_HH_INCOME', ylabel='percent'>"
      ]
     },
     "execution_count": 38,
     "metadata": {},
     "output_type": "execute_result"
    },
    {
     "data": {
      "image/png": "[encoded data removed]",
      "text/plain": [
       "<Figure size 1080x288 with 1 Axes>"
      ]
     },
     "metadata": {
      "needs_background": "light"
     },
     "output_type": "display_data"
    }
   ],
   "source": [
    "fig_dims = (15, 4)\n",
    "fig, ax = plt.subplots(figsize=fig_dims)\n",
    "\n",
    "df_plot = df\n",
    "\n",
    "x,y = 'ETHNICITY', 'DEMO_HH_INCOME'\n",
    "\n",
    "\n",
    "df_plot = df_plot.groupby(x)[y].value_counts(normalize=True).mul(100).rename('percent').reset_index()\n",
    "\n",
    "sns.barplot(x=y, y='percent', hue=x, order = ['Less than $30,000', '$30,000 to $49,999', \n",
    "                                              '$50,000 to $74,999', '$75,000 to $99,999', '$100,000 to $149,999', \n",
    "                                              '$150,000 to $199,999', '$200,000 to $249,999', \n",
    "                                              '$250,000 +'], hue_order = ['White', 'Asian', 'Hispanic', 'African American'],  ax=ax, data = df_plot)"
   ]
  },
  {
   "cell_type": "markdown",
   "metadata": {
    "id": "oFyTKQ_-96VA"
   },
   "source": [
    "We plan to include a widget to this audience selection tool, which would alarm the user that one of the distributions have changed drastically. In this example, the African American population has been drastically discluded.\n",
    "We will accomplish the flagging by finding ways to measure entropy of distributions, after applying constraints on a feature. This would require us to find a method of computing entropy for each data type. For example, once I would apply the “$100,000 to $149,999”  to income level, I would use “Earth Mover’s Distance” to see how drastically each distribution changed thereafter.\n",
    " \n",
    "Moreover, given the constraints of the time,while we will be able to flag large shifts in the distributions once changes are made to them in the audience selection process, we will be unable to make an actual model that can tell that the huge \"shift\" is biased. Thus, our product can help flag for bias, but won't be able to distinguish what it is.\n"
   ]
  },
  {
   "cell_type": "markdown",
   "metadata": {
    "id": "6x1oROIIo5zZ"
   },
   "source": [
    "# Conditional Entropy and Correlational Heatmaps \n",
    "\n",
    "\n",
    "Here we take a deeper dive into the relationships between the various features in our data. To do so, we use the entropy between the variables to innvestigate a few statistics that are similar to correlation coefficients, but are adjusted for categorical data. \n",
    "\n",
    "credits to Shaked Zychlinski for providing us with preliminary code to explore these relationships.\n",
    "\n"
   ]
  },
  {
   "cell_type": "code",
   "execution_count": 39,
   "metadata": {
    "id": "eePduuFaBYeI"
   },
   "outputs": [],
   "source": [
    "df2 = df\n",
    "df2 = df2.rename(columns = {'ETHNICITY': 'RACE', 'Unnamed: 0':'ID'})\n",
    "df2['ZIP'] = df2['ZIP'].astype(str)"
   ]
  },
  {
   "cell_type": "code",
   "execution_count": 40,
   "metadata": {
    "id": "baxTmZ5PBZpg"
   },
   "outputs": [],
   "source": [
    "_REPLACE = 'replace'\n",
    "_DEFAULT_REPLACE_VALUE = 0.0"
   ]
  },
  {
   "cell_type": "code",
   "execution_count": 41,
   "metadata": {
    "id": "kYJl22KXBRLf"
   },
   "outputs": [],
   "source": [
    "def replace_nan_with_value(x, y, value):\n",
    "    x = np.array([v if v == v and v is not None else value for v in x])  # NaN != NaN\n",
    "    y = np.array([v if v == v and v is not None else value for v in y])\n",
    "    return x, y"
   ]
  },
  {
   "cell_type": "code",
   "execution_count": 42,
   "metadata": {
    "id": "R5cROtGgBRet"
   },
   "outputs": [],
   "source": [
    "def remove_incomplete_samples(x, y):\n",
    "    x = [v if v is not None else np.nan for v in x]\n",
    "    y = [v if v is not None else np.nan for v in y]\n",
    "    arr = np.array([x, y]).transpose()\n",
    "    arr = arr[~np.isnan(arr).any(axis=1)].transpose()\n",
    "    if isinstance(x, list):\n",
    "        return arr[0].tolist(), arr[1].tolist()\n",
    "    else:\n",
    "        return arr[0], arr[1]"
   ]
  },
  {
   "cell_type": "code",
   "execution_count": 43,
   "metadata": {
    "id": "yQAvdMRyGWxf"
   },
   "outputs": [],
   "source": [
    "def conditional_entropy(x,y,\n",
    "                        nan_strategy=_REPLACE,\n",
    "                        nan_replace_value=_DEFAULT_REPLACE_VALUE,\n",
    "                        log_base: float = math.e):\n",
    "    \"\"\"\n",
    "    Calculates the conditional entropy of x given y: S(x|y)\n",
    "    Wikipedia: https://en.wikipedia.org/wiki/Conditional_entropy\n",
    "    Parameters:\n",
    "    -----------\n",
    "    x : list / NumPy ndarray / Pandas Series\n",
    "        A sequence of measurements\n",
    "    y : list / NumPy ndarray / Pandas Series\n",
    "        A sequence of measurements\n",
    "    nan_strategy : string, default = 'replace'\n",
    "        How to handle missing values: can be either 'drop' to remove samples\n",
    "        with missing values, or 'replace' to replace all missing values with\n",
    "        the nan_replace_value. Missing values are None and np.nan.\n",
    "    nan_replace_value : any, default = 0.0\n",
    "        The value used to replace missing values with. Only applicable when\n",
    "        nan_strategy is set to 'replace'.\n",
    "    log_base: float, default = e\n",
    "        specifying base for calculating entropy. Default is base e.\n",
    "    Returns:\n",
    "    --------\n",
    "    float\n",
    "    \"\"\"\n",
    "    if nan_strategy == _REPLACE:\n",
    "        x, y = replace_nan_with_value(x, y, nan_replace_value)\n",
    "    elif nan_strategy == _DROP:\n",
    "        x, y = remove_incomplete_samples(x, y)\n",
    "    y_counter = Counter(y)\n",
    "    xy_counter = Counter(list(zip(x, y)))\n",
    "    total_occurrences = sum(y_counter.values())\n",
    "    entropy = 0.0\n",
    "    for xy in xy_counter.keys():\n",
    "        p_xy = xy_counter[xy] / total_occurrences\n",
    "        p_y = y_counter[xy[1]] / total_occurrences\n",
    "        entropy += p_xy * math.log(p_y / p_xy, log_base)\n",
    "    return entropy"
   ]
  },
  {
   "cell_type": "code",
   "execution_count": 44,
   "metadata": {
    "id": "uLzxXJhqGWxf"
   },
   "outputs": [],
   "source": [
    "def theils_u(x,\n",
    "             y,\n",
    "             nan_strategy=_REPLACE,\n",
    "             nan_replace_value=_DEFAULT_REPLACE_VALUE):\n",
    "    \"\"\"\n",
    "    Calculates Theil's U statistic (Uncertainty coefficient) for categorical-\n",
    "    categorical association. This is the uncertainty of x given y: value is\n",
    "    on the range of [0,1] - where 0 means y provides no information about\n",
    "    x, and 1 means y provides full information about x.\n",
    "    This is an asymmetric coefficient: U(x,y) != U(y,x)\n",
    "    Wikipedia: https://en.wikipedia.org/wiki/Uncertainty_coefficient\n",
    "    Parameters:\n",
    "    -----------\n",
    "    x : list / NumPy ndarray / Pandas Series\n",
    "        A sequence of categorical measurements\n",
    "    y : list / NumPy ndarray / Pandas Series\n",
    "        A sequence of categorical measurements\n",
    "    nan_strategy : string, default = 'replace'\n",
    "        How to handle missing values: can be either 'drop' to remove samples\n",
    "        with missing values, or 'replace' to replace all missing values with\n",
    "        the nan_replace_value. Missing values are None and np.nan.\n",
    "    nan_replace_value : any, default = 0.0\n",
    "        The value used to replace missing values with. Only applicable when\n",
    "        nan_strategy is set to 'replace'.\n",
    "    Returns:\n",
    "    --------\n",
    "    float in the range of [0,1]\n",
    "    \"\"\"\n",
    "    if nan_strategy == _REPLACE:\n",
    "        x, y = replace_nan_with_value(x, y, nan_replace_value)\n",
    "    elif nan_strategy == _DROP:\n",
    "        x, y = remove_incomplete_samples(x, y)\n",
    "    s_xy = conditional_entropy(x, y)\n",
    "    x_counter = Counter(x)\n",
    "    total_occurrences = sum(x_counter.values())\n",
    "    p_x = list(map(lambda n: n / total_occurrences, x_counter.values()))\n",
    "    s_x = ss.entropy(p_x)\n",
    "    if s_x == 0:\n",
    "        return 1\n",
    "    else:\n",
    "        return (s_x - s_xy) / s_x"
   ]
  },
  {
   "cell_type": "markdown",
   "metadata": {
    "id": "PDtdAsDtFlBl"
   },
   "source": [
    "Conditional Entropy between 2 features:"
   ]
  },
  {
   "cell_type": "code",
   "execution_count": 45,
   "metadata": {
    "id": "3oFm4HHWGWxg"
   },
   "outputs": [
    {
     "data": {
      "text/plain": [
       "0.7606204671789172"
      ]
     },
     "execution_count": 45,
     "metadata": {},
     "output_type": "execute_result"
    }
   ],
   "source": [
    "conditional_entropy(df2['RACE'],df2['HOMEOWNERSHIP_STATUS'])"
   ]
  },
  {
   "cell_type": "markdown",
   "metadata": {
    "id": "RypQHz4XaxFU"
   },
   "source": [
    "Below is some pseudo-code intended to traverse through all features within the data in order to generate conditional entropy values with other features in the dataset. "
   ]
  },
  {
   "cell_type": "code",
   "execution_count": 46,
   "metadata": {
    "id": "oXV1iNkh_k_d"
   },
   "outputs": [
    {
     "name": "stdout",
     "output_type": "stream",
     "text": [
      "0.0\n",
      "9.502147567859236\n",
      "14.30837363809115\n",
      "11.527340273536373\n",
      "15.126628144476237\n",
      "13.387314367577085\n",
      "13.442851748630838\n",
      "14.344349695221325\n",
      "14.576931302729152\n",
      "13.859434419041776\n",
      "0.0\n",
      "0.0\n",
      "5.623139249406866\n",
      "5.608898484515456\n",
      "5.624480577368362\n",
      "3.9036064396727377\n",
      "5.515212604428384\n",
      "5.478784579056964\n",
      "5.604797041131559\n",
      "5.608634336118271\n",
      "0.0\n",
      "0.8169131782192813\n",
      "0.0\n",
      "0.7914383405400179\n",
      "0.8182545061807902\n",
      "0.8181746024938871\n",
      "0.8142669069581385\n",
      "0.8117811478703943\n",
      "0.8086455004218251\n",
      "0.7872437263625051\n",
      "0.0\n",
      "3.58370577875893\n",
      "3.5724717059709796\n",
      "0.0\n",
      "3.599287871611751\n",
      "3.598568395828873\n",
      "3.5668340845322675\n",
      "3.58833255601793\n",
      "3.5327645610602105\n",
      "3.499646145664598\n",
      "0.0\n",
      "0.0\n",
      "0.0\n",
      "0.0\n",
      "0.0\n",
      "0.0\n",
      "0.0\n",
      "0.0\n",
      "0.0\n",
      "0.0\n",
      "0.0\n",
      "0.018439639685462823\n",
      "1.7392338736941817\n",
      "1.7385943015982068\n",
      "1.7393137773810847\n",
      "0.0\n",
      "1.7297807869318294\n",
      "1.7322875259293917\n",
      "1.7387062929004145\n",
      "1.7385173678843238\n",
      "0.0\n",
      "1.5745084236853384\n",
      "1.679788797402631\n",
      "1.6513226095458002\n",
      "1.6837763966252823\n",
      "1.6742434061760267\n",
      "0.0\n",
      "1.6530732113055258\n",
      "1.6402071935825535\n",
      "1.65771138987234\n",
      "0.0\n",
      "0.6365824507949136\n",
      "0.7758050907959086\n",
      "0.7713231335124837\n",
      "0.7822784491063043\n",
      "0.7752521976546111\n",
      "0.7515752637865475\n",
      "0.0\n",
      "0.7606204671789172\n",
      "0.7725254754902622\n",
      "0.0\n",
      "0.5300133055510896\n",
      "0.5400878360289194\n",
      "0.4831735312363457\n",
      "0.5496968417878845\n",
      "0.5490893573072136\n",
      "0.5061276387451558\n",
      "0.5280388598604975\n",
      "0.0\n",
      "0.5093790147111705\n",
      "0.0\n",
      "1.2513474853620072\n",
      "1.2361829467938386\n",
      "1.1675520006649718\n",
      "1.2671937266121236\n",
      "1.2663973171153629\n",
      "1.241128719859181\n",
      "1.2574407529960814\n",
      "1.2268758995354094\n",
      "0.0\n"
     ]
    }
   ],
   "source": [
    "dictionary = dict()\n",
    "for x in df2.columns:\n",
    "    for y in df2.columns:\n",
    "        dictionary[x + '_' + y] = conditional_entropy(df2[x],df2[y])\n",
    "        print(dictionary[x + '_' + y])"
   ]
  },
  {
   "cell_type": "markdown",
   "metadata": {
    "id": "ShUr_-wPcDKe"
   },
   "source": [
    "we now know that the categorical data types we have are fit for generating the various metrics, now we put those metrics into a heatmap\n"
   ]
  },
  {
   "cell_type": "code",
   "execution_count": 155,
   "metadata": {
    "id": "FQ-1bNL9wS47"
   },
   "outputs": [],
   "source": [
    "# creating a blank correlation matrix of dimension (num_features x num_feautres)\n",
    "rows, cols = (len(df2.columns), len(df2.columns))\n",
    "corra_matrix = [[0]*cols]*rows"
   ]
  },
  {
   "cell_type": "code",
   "execution_count": 156,
   "metadata": {},
   "outputs": [
    {
     "data": {
      "text/plain": [
       "dict_keys(['ID_ID', 'ID_ZIP', 'ID_GENDER', 'ID_AGE', 'ID_STATE_ABBREVIATION', 'ID_DMA_NAME_ACXIOM', 'ID_DEMO_HH_INCOME', 'ID_RACE', 'ID_HOMEOWNERSHIP_STATUS', 'ID_EDUCATION', 'ZIP_ID', 'ZIP_ZIP', 'ZIP_GENDER', 'ZIP_AGE', 'ZIP_STATE_ABBREVIATION', 'ZIP_DMA_NAME_ACXIOM', 'ZIP_DEMO_HH_INCOME', 'ZIP_RACE', 'ZIP_HOMEOWNERSHIP_STATUS', 'ZIP_EDUCATION', 'GENDER_ID', 'GENDER_ZIP', 'GENDER_GENDER', 'GENDER_AGE', 'GENDER_STATE_ABBREVIATION', 'GENDER_DMA_NAME_ACXIOM', 'GENDER_DEMO_HH_INCOME', 'GENDER_RACE', 'GENDER_HOMEOWNERSHIP_STATUS', 'GENDER_EDUCATION', 'AGE_ID', 'AGE_ZIP', 'AGE_GENDER', 'AGE_AGE', 'AGE_STATE_ABBREVIATION', 'AGE_DMA_NAME_ACXIOM', 'AGE_DEMO_HH_INCOME', 'AGE_RACE', 'AGE_HOMEOWNERSHIP_STATUS', 'AGE_EDUCATION', 'STATE_ABBREVIATION_ID', 'STATE_ABBREVIATION_ZIP', 'STATE_ABBREVIATION_GENDER', 'STATE_ABBREVIATION_AGE', 'STATE_ABBREVIATION_STATE_ABBREVIATION', 'STATE_ABBREVIATION_DMA_NAME_ACXIOM', 'STATE_ABBREVIATION_DEMO_HH_INCOME', 'STATE_ABBREVIATION_RACE', 'STATE_ABBREVIATION_HOMEOWNERSHIP_STATUS', 'STATE_ABBREVIATION_EDUCATION', 'DMA_NAME_ACXIOM_ID', 'DMA_NAME_ACXIOM_ZIP', 'DMA_NAME_ACXIOM_GENDER', 'DMA_NAME_ACXIOM_AGE', 'DMA_NAME_ACXIOM_STATE_ABBREVIATION', 'DMA_NAME_ACXIOM_DMA_NAME_ACXIOM', 'DMA_NAME_ACXIOM_DEMO_HH_INCOME', 'DMA_NAME_ACXIOM_RACE', 'DMA_NAME_ACXIOM_HOMEOWNERSHIP_STATUS', 'DMA_NAME_ACXIOM_EDUCATION', 'DEMO_HH_INCOME_ID', 'DEMO_HH_INCOME_ZIP', 'DEMO_HH_INCOME_GENDER', 'DEMO_HH_INCOME_AGE', 'DEMO_HH_INCOME_STATE_ABBREVIATION', 'DEMO_HH_INCOME_DMA_NAME_ACXIOM', 'DEMO_HH_INCOME_DEMO_HH_INCOME', 'DEMO_HH_INCOME_RACE', 'DEMO_HH_INCOME_HOMEOWNERSHIP_STATUS', 'DEMO_HH_INCOME_EDUCATION', 'RACE_ID', 'RACE_ZIP', 'RACE_GENDER', 'RACE_AGE', 'RACE_STATE_ABBREVIATION', 'RACE_DMA_NAME_ACXIOM', 'RACE_DEMO_HH_INCOME', 'RACE_RACE', 'RACE_HOMEOWNERSHIP_STATUS', 'RACE_EDUCATION', 'HOMEOWNERSHIP_STATUS_ID', 'HOMEOWNERSHIP_STATUS_ZIP', 'HOMEOWNERSHIP_STATUS_GENDER', 'HOMEOWNERSHIP_STATUS_AGE', 'HOMEOWNERSHIP_STATUS_STATE_ABBREVIATION', 'HOMEOWNERSHIP_STATUS_DMA_NAME_ACXIOM', 'HOMEOWNERSHIP_STATUS_DEMO_HH_INCOME', 'HOMEOWNERSHIP_STATUS_RACE', 'HOMEOWNERSHIP_STATUS_HOMEOWNERSHIP_STATUS', 'HOMEOWNERSHIP_STATUS_EDUCATION', 'EDUCATION_ID', 'EDUCATION_ZIP', 'EDUCATION_GENDER', 'EDUCATION_AGE', 'EDUCATION_STATE_ABBREVIATION', 'EDUCATION_DMA_NAME_ACXIOM', 'EDUCATION_DEMO_HH_INCOME', 'EDUCATION_RACE', 'EDUCATION_HOMEOWNERSHIP_STATUS', 'EDUCATION_EDUCATION'])"
      ]
     },
     "execution_count": 156,
     "metadata": {},
     "output_type": "execute_result"
    }
   ],
   "source": [
    "dictionary.keys()"
   ]
  },
  {
   "cell_type": "code",
   "execution_count": 161,
   "metadata": {
    "id": "G73KJJCob7SD"
   },
   "outputs": [
    {
     "name": "stdout",
     "output_type": "stream",
     "text": [
      "[ 0.     9.502 14.308 11.527 15.127 13.387 13.443 14.344 14.577 13.859]\n",
      "[0.    0.    5.623 5.609 5.624 3.904 5.515 5.479 5.605 5.609]\n",
      "[0.    0.817 0.    0.791 0.818 0.818 0.814 0.812 0.809 0.787]\n",
      "[0.    3.584 3.572 0.    3.599 3.599 3.567 3.588 3.533 3.5  ]\n",
      "[0. 0. 0. 0. 0. 0. 0. 0. 0. 0.]\n",
      "[0.    0.018 1.739 1.739 1.739 0.    1.73  1.732 1.739 1.739]\n",
      "[0.    1.575 1.68  1.651 1.684 1.674 0.    1.653 1.64  1.658]\n",
      "[0.    0.637 0.776 0.771 0.782 0.775 0.752 0.    0.761 0.773]\n",
      "[0.    0.53  0.54  0.483 0.55  0.549 0.506 0.528 0.    0.509]\n",
      "[0.    1.251 1.236 1.168 1.267 1.266 1.241 1.257 1.227 0.   ]\n"
     ]
    }
   ],
   "source": [
    "#populating the correlation matrix with our correlation metric of choice, in this case, conditional entropy\n",
    "cont_entropy = []\n",
    "for x in df2.columns:\n",
    "    for y in df2.columns:\n",
    "        cont_entropy = np.append(cont_entropy, round(dictionary[x + '_' + y], 3))\n",
    "    print(cont_entropy)\n",
    "    cont_entropy = []"
   ]
  },
  {
   "cell_type": "markdown",
   "metadata": {
    "id": "1A34xBhFh-NB"
   },
   "source": [
    "Resources: \n",
    "\n",
    "\n",
    "\n",
    "1.   https://towardsdatascience.com/the-search-for-categorical-correlation-a1cf7f1888c9\n",
    "\n",
    "2.   https://github.com/shakedzy/dython/blob/master/dython/nominal.py\n",
    "\n",
    "\n",
    "\n",
    "\n",
    "\n",
    "\n"
   ]
  },
  {
   "cell_type": "markdown",
   "metadata": {
    "id": "Q6vSMQ9tii7w"
   },
   "source": [
    "Author(s): Wei Dai, Sam Stilson, Michelle Gu, Lubah Nelson, Noor-Ul-Ain Ali"
   ]
  },
  {
   "cell_type": "code",
   "execution_count": null,
   "metadata": {
    "id": "6GaNPH-jrtxD"
   },
   "outputs": [],
   "source": []
  }
 ],
 "metadata": {
  "colab": {
   "collapsed_sections": [],
   "name": "Modelv1.ipynb",
   "provenance": []
  },
  "kernelspec": {
   "display_name": "Python 3",
   "language": "python",
   "name": "python3"
  },
  "language_info": {
   "codemirror_mode": {
    "name": "ipython",
    "version": 3
   },
   "file_extension": ".py",
   "mimetype": "text/x-python",
   "name": "python",
   "nbconvert_exporter": "python",
   "pygments_lexer": "ipython3",
   "version": "3.8.5"
  },
  "widgets": {
   "application/vnd.jupyter.widget-state+json": {
    "844bd6b0532940a5bb7587250110f241": {
     "model_module": "@jupyter-widgets/controls",
     "model_name": "SliderStyleModel",
     "state": {
      "_model_module": "@jupyter-widgets/controls",
      "_model_module_version": "1.5.0",
      "_model_name": "SliderStyleModel",
      "_view_count": null,
      "_view_module": "@jupyter-widgets/base",
      "_view_module_version": "1.2.0",
      "_view_name": "StyleView",
      "description_width": "",
      "handle_color": null
     }
    },
    "90fdd06faf824e1caba936490b811ef0": {
     "model_module": "@jupyter-widgets/base",
     "model_name": "LayoutModel",
     "state": {
      "_model_module": "@jupyter-widgets/base",
      "_model_module_version": "1.2.0",
      "_model_name": "LayoutModel",
      "_view_count": null,
      "_view_module": "@jupyter-widgets/base",
      "_view_module_version": "1.2.0",
      "_view_name": "LayoutView",
      "align_content": null,
      "align_items": null,
      "align_self": null,
      "border": null,
      "bottom": null,
      "display": null,
      "flex": null,
      "flex_flow": null,
      "grid_area": null,
      "grid_auto_columns": null,
      "grid_auto_flow": null,
      "grid_auto_rows": null,
      "grid_column": null,
      "grid_gap": null,
      "grid_row": null,
      "grid_template_areas": null,
      "grid_template_columns": null,
      "grid_template_rows": null,
      "height": null,
      "justify_content": null,
      "justify_items": null,
      "left": null,
      "margin": null,
      "max_height": null,
      "max_width": null,
      "min_height": null,
      "min_width": null,
      "object_fit": null,
      "object_position": null,
      "order": null,
      "overflow": null,
      "overflow_x": null,
      "overflow_y": null,
      "padding": null,
      "right": null,
      "top": null,
      "visibility": null,
      "width": null
     }
    },
    "bf170ebb114d4b7d97aba697af3aa9d5": {
     "model_module": "@jupyter-widgets/controls",
     "model_name": "IntSliderModel",
     "state": {
      "_dom_classes": [],
      "_model_module": "@jupyter-widgets/controls",
      "_model_module_version": "1.5.0",
      "_model_name": "IntSliderModel",
      "_view_count": null,
      "_view_module": "@jupyter-widgets/controls",
      "_view_module_version": "1.5.0",
      "_view_name": "IntSliderView",
      "continuous_update": true,
      "description": "",
      "description_tooltip": null,
      "disabled": false,
      "layout": "IPY_MODEL_90fdd06faf824e1caba936490b811ef0",
      "max": 100,
      "min": 0,
      "orientation": "horizontal",
      "readout": true,
      "readout_format": "d",
      "step": 1,
      "style": "IPY_MODEL_844bd6b0532940a5bb7587250110f241",
      "value": 0
     }
    }
   }
  }
 },
 "nbformat": 4,
 "nbformat_minor": 1
}
