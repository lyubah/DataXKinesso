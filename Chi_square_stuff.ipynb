{
  "nbformat": 4,
  "nbformat_minor": 0,
  "metadata": {
    "kernelspec": {
      "display_name": "Python 3",
      "language": "python",
      "name": "python3"
    },
    "language_info": {
      "codemirror_mode": {
        "name": "ipython",
        "version": 3
      },
      "file_extension": ".py",
      "mimetype": "text/x-python",
      "name": "python",
      "nbconvert_exporter": "python",
      "pygments_lexer": "ipython3",
      "version": "3.8.3"
    },
    "colab": {
      "name": "Chi-square-stuff.ipynb",
      "provenance": []
    }
  },
  "cells": [
    {
      "cell_type": "code",
      "metadata": {
        "id": "nRCVUol11t-O"
      },
      "source": [
        "import numpy as np\n",
        "import pandas as pd\n",
        "import matplotlib.pyplot as plt\n",
        "import sys\n",
        "assert 'zipfile' in sys.modules\n",
        "import seaborn as sns\n",
        "import math\n",
        "from sklearn.preprocessing import OneHotEncoder\n",
        "import scipy.stats as ss\n",
        "from collections import Counter"
      ],
      "execution_count": null,
      "outputs": []
    },
    {
      "cell_type": "code",
      "metadata": {
        "id": "ZjV6Dzam1t-i"
      },
      "source": [
        "LA = pd.read_csv('Audience_LA',error_bad_lines=False)"
      ],
      "execution_count": null,
      "outputs": []
    },
    {
      "cell_type": "code",
      "metadata": {
        "id": "SzEi5IOo1t-o",
        "outputId": "a57d2196-ee8b-4de4-bb9b-0a6966081519"
      },
      "source": [
        "LA"
      ],
      "execution_count": null,
      "outputs": [
        {
          "output_type": "execute_result",
          "data": {
            "text/html": [
              "<div>\n",
              "<style scoped>\n",
              "    .dataframe tbody tr th:only-of-type {\n",
              "        vertical-align: middle;\n",
              "    }\n",
              "\n",
              "    .dataframe tbody tr th {\n",
              "        vertical-align: top;\n",
              "    }\n",
              "\n",
              "    .dataframe thead th {\n",
              "        text-align: right;\n",
              "    }\n",
              "</style>\n",
              "<table border=\"1\" class=\"dataframe\">\n",
              "  <thead>\n",
              "    <tr style=\"text-align: right;\">\n",
              "      <th></th>\n",
              "      <th>Unnamed: 0</th>\n",
              "      <th>ZIP</th>\n",
              "      <th>GENDER</th>\n",
              "      <th>AGE</th>\n",
              "      <th>STATE_ABBREVIATION</th>\n",
              "      <th>DMA_NAME_ACXIOM</th>\n",
              "      <th>DEMO_HH_INCOME</th>\n",
              "      <th>ETHNICITY</th>\n",
              "      <th>HOMEOWNERSHIP_STATUS</th>\n",
              "      <th>EDUCATION</th>\n",
              "    </tr>\n",
              "  </thead>\n",
              "  <tbody>\n",
              "    <tr>\n",
              "      <th>0</th>\n",
              "      <td>0</td>\n",
              "      <td>71202</td>\n",
              "      <td>M</td>\n",
              "      <td>67.0</td>\n",
              "      <td>LA</td>\n",
              "      <td>Monroe-El Dorado</td>\n",
              "      <td>$30,000 to $49,999</td>\n",
              "      <td>African American</td>\n",
              "      <td>Homeowner</td>\n",
              "      <td>High School</td>\n",
              "    </tr>\n",
              "    <tr>\n",
              "      <th>1</th>\n",
              "      <td>1</td>\n",
              "      <td>70438</td>\n",
              "      <td>F</td>\n",
              "      <td>33.0</td>\n",
              "      <td>LA</td>\n",
              "      <td>New Orleans</td>\n",
              "      <td>$100,000 to $149,999</td>\n",
              "      <td>White</td>\n",
              "      <td>Renter</td>\n",
              "      <td>College</td>\n",
              "    </tr>\n",
              "    <tr>\n",
              "      <th>2</th>\n",
              "      <td>2</td>\n",
              "      <td>70770</td>\n",
              "      <td>F</td>\n",
              "      <td>59.0</td>\n",
              "      <td>LA</td>\n",
              "      <td>Baton Rouge</td>\n",
              "      <td>Less than $30,000</td>\n",
              "      <td>White</td>\n",
              "      <td>Homeowner</td>\n",
              "      <td>College</td>\n",
              "    </tr>\n",
              "    <tr>\n",
              "      <th>3</th>\n",
              "      <td>3</td>\n",
              "      <td>71108</td>\n",
              "      <td>F</td>\n",
              "      <td>63.0</td>\n",
              "      <td>LA</td>\n",
              "      <td>Shreveport</td>\n",
              "      <td>$30,000 to $49,999</td>\n",
              "      <td>African American</td>\n",
              "      <td>Homeowner</td>\n",
              "      <td>College</td>\n",
              "    </tr>\n",
              "    <tr>\n",
              "      <th>4</th>\n",
              "      <td>4</td>\n",
              "      <td>70802</td>\n",
              "      <td>F</td>\n",
              "      <td>81.0</td>\n",
              "      <td>LA</td>\n",
              "      <td>Baton Rouge</td>\n",
              "      <td>Less than $30,000</td>\n",
              "      <td>African American</td>\n",
              "      <td>Homeowner</td>\n",
              "      <td>not_reported</td>\n",
              "    </tr>\n",
              "    <tr>\n",
              "      <th>...</th>\n",
              "      <td>...</td>\n",
              "      <td>...</td>\n",
              "      <td>...</td>\n",
              "      <td>...</td>\n",
              "      <td>...</td>\n",
              "      <td>...</td>\n",
              "      <td>...</td>\n",
              "      <td>...</td>\n",
              "      <td>...</td>\n",
              "      <td>...</td>\n",
              "    </tr>\n",
              "    <tr>\n",
              "      <th>3710313</th>\n",
              "      <td>3710313</td>\n",
              "      <td>70124</td>\n",
              "      <td>M</td>\n",
              "      <td>51.0</td>\n",
              "      <td>LA</td>\n",
              "      <td>New Orleans</td>\n",
              "      <td>$75,000 to $99,999</td>\n",
              "      <td>Hispanic</td>\n",
              "      <td>Homeowner</td>\n",
              "      <td>College</td>\n",
              "    </tr>\n",
              "    <tr>\n",
              "      <th>3710314</th>\n",
              "      <td>3710314</td>\n",
              "      <td>71112</td>\n",
              "      <td>M</td>\n",
              "      <td>33.0</td>\n",
              "      <td>LA</td>\n",
              "      <td>Shreveport</td>\n",
              "      <td>Less than $30,000</td>\n",
              "      <td>White</td>\n",
              "      <td>Renter</td>\n",
              "      <td>not_reported</td>\n",
              "    </tr>\n",
              "    <tr>\n",
              "      <th>3710315</th>\n",
              "      <td>3710315</td>\n",
              "      <td>70764</td>\n",
              "      <td>M</td>\n",
              "      <td>73.0</td>\n",
              "      <td>LA</td>\n",
              "      <td>Baton Rouge</td>\n",
              "      <td>$50,000 to $74,999</td>\n",
              "      <td>White</td>\n",
              "      <td>Homeowner</td>\n",
              "      <td>High School</td>\n",
              "    </tr>\n",
              "    <tr>\n",
              "      <th>3710316</th>\n",
              "      <td>3710316</td>\n",
              "      <td>70534</td>\n",
              "      <td>M</td>\n",
              "      <td>35.0</td>\n",
              "      <td>LA</td>\n",
              "      <td>Lafayette, LA</td>\n",
              "      <td>Less than $30,000</td>\n",
              "      <td>White</td>\n",
              "      <td>Renter</td>\n",
              "      <td>not_reported</td>\n",
              "    </tr>\n",
              "    <tr>\n",
              "      <th>3710317</th>\n",
              "      <td>3710317</td>\n",
              "      <td>71068</td>\n",
              "      <td>M</td>\n",
              "      <td>61.0</td>\n",
              "      <td>LA</td>\n",
              "      <td>Shreveport</td>\n",
              "      <td>$50,000 to $74,999</td>\n",
              "      <td>White</td>\n",
              "      <td>Homeowner</td>\n",
              "      <td>not_reported</td>\n",
              "    </tr>\n",
              "  </tbody>\n",
              "</table>\n",
              "<p>3710318 rows × 10 columns</p>\n",
              "</div>"
            ],
            "text/plain": [
              "         Unnamed: 0    ZIP GENDER   AGE STATE_ABBREVIATION   DMA_NAME_ACXIOM  \\\n",
              "0                 0  71202      M  67.0                 LA  Monroe-El Dorado   \n",
              "1                 1  70438      F  33.0                 LA       New Orleans   \n",
              "2                 2  70770      F  59.0                 LA       Baton Rouge   \n",
              "3                 3  71108      F  63.0                 LA        Shreveport   \n",
              "4                 4  70802      F  81.0                 LA       Baton Rouge   \n",
              "...             ...    ...    ...   ...                ...               ...   \n",
              "3710313     3710313  70124      M  51.0                 LA       New Orleans   \n",
              "3710314     3710314  71112      M  33.0                 LA        Shreveport   \n",
              "3710315     3710315  70764      M  73.0                 LA       Baton Rouge   \n",
              "3710316     3710316  70534      M  35.0                 LA     Lafayette, LA   \n",
              "3710317     3710317  71068      M  61.0                 LA        Shreveport   \n",
              "\n",
              "               DEMO_HH_INCOME         ETHNICITY HOMEOWNERSHIP_STATUS  \\\n",
              "0          $30,000 to $49,999  African American            Homeowner   \n",
              "1        $100,000 to $149,999             White               Renter   \n",
              "2           Less than $30,000             White            Homeowner   \n",
              "3          $30,000 to $49,999  African American            Homeowner   \n",
              "4           Less than $30,000  African American            Homeowner   \n",
              "...                       ...               ...                  ...   \n",
              "3710313    $75,000 to $99,999          Hispanic            Homeowner   \n",
              "3710314     Less than $30,000             White               Renter   \n",
              "3710315    $50,000 to $74,999             White            Homeowner   \n",
              "3710316     Less than $30,000             White               Renter   \n",
              "3710317    $50,000 to $74,999             White            Homeowner   \n",
              "\n",
              "            EDUCATION  \n",
              "0         High School  \n",
              "1             College  \n",
              "2             College  \n",
              "3             College  \n",
              "4        not_reported  \n",
              "...               ...  \n",
              "3710313       College  \n",
              "3710314  not_reported  \n",
              "3710315   High School  \n",
              "3710316  not_reported  \n",
              "3710317  not_reported  \n",
              "\n",
              "[3710318 rows x 10 columns]"
            ]
          },
          "metadata": {
            "tags": []
          },
          "execution_count": 3
        }
      ]
    },
    {
      "cell_type": "code",
      "metadata": {
        "id": "DcXmDE6s1t-r"
      },
      "source": [
        "sample1 = LA[LA['DMA_NAME_ACXIOM']=='New Orleans']"
      ],
      "execution_count": null,
      "outputs": []
    },
    {
      "cell_type": "code",
      "metadata": {
        "id": "BQ4tEGPA1t-r"
      },
      "source": [
        "sample2 = LA[LA['DMA_NAME_ACXIOM']=='Baton Rouge']\n",
        "#value_counts()"
      ],
      "execution_count": null,
      "outputs": []
    },
    {
      "cell_type": "code",
      "metadata": {
        "id": "SHqualC_1t-s",
        "outputId": "e331cae2-db04-4e70-cf5c-eb1a26a546e4"
      },
      "source": [
        "ss.chisquare(sample1['ETHNICITY'].value_counts(), sample2['ETHNICITY'].value_counts())"
      ],
      "execution_count": null,
      "outputs": [
        {
          "output_type": "execute_result",
          "data": {
            "text/plain": [
              "Power_divergenceResult(statistic=576975.4992734044, pvalue=0.0)"
            ]
          },
          "metadata": {
            "tags": []
          },
          "execution_count": 17
        }
      ]
    },
    {
      "cell_type": "code",
      "metadata": {
        "id": "fHySlpr01t-u",
        "outputId": "0423f3b3-7443-4ce4-b4f4-55c02a5b39d0"
      },
      "source": [
        "sample1['ETHNICITY'].value_counts()"
      ],
      "execution_count": null,
      "outputs": [
        {
          "output_type": "execute_result",
          "data": {
            "text/plain": [
              "White               919308\n",
              "African American    282810\n",
              "Hispanic             86371\n",
              "Asian                32847\n",
              "not_reported          2177\n",
              "Name: ETHNICITY, dtype: int64"
            ]
          },
          "metadata": {
            "tags": []
          },
          "execution_count": 15
        }
      ]
    },
    {
      "cell_type": "code",
      "metadata": {
        "id": "3X-6nRdc1t-w",
        "outputId": "07a8a7ea-8985-4023-f7c6-ff2a1c45d32d"
      },
      "source": [
        "ss.chisquare(sample1['DEMO_HH_INCOME'].value_counts(), sample2['DEMO_HH_INCOME'].value_counts())"
      ],
      "execution_count": null,
      "outputs": [
        {
          "output_type": "execute_result",
          "data": {
            "text/plain": [
              "Power_divergenceResult(statistic=534805.6115447863, pvalue=0.0)"
            ]
          },
          "metadata": {
            "tags": []
          },
          "execution_count": 18
        }
      ]
    },
    {
      "cell_type": "code",
      "metadata": {
        "id": "q1fZZzSJ1t-x"
      },
      "source": [
        "#takes two tables, iterates through the columns and generates the chi-square statistic for each column's frequencies. assumes categorical variable. \n",
        "def get_chis(table1,table2):\n",
        "    column_chi = {}\n",
        "    for column in table1.columns[2:]:\n",
        "        chi = ss.chisquare(table1[column].value_counts(), table2[column].value_counts())\n",
        "        column_chi[column] = chi\n",
        "    return column_chi\n",
        "test1 = get_chis(sample1,sample2)\n"
      ],
      "execution_count": null,
      "outputs": []
    },
    {
      "cell_type": "code",
      "metadata": {
        "id": "j705yf9b1t-y"
      },
      "source": [
        "def show_chis(table1,table2):\n",
        "    test = get_chis(table1,table2)\n",
        "    for column in sample1.columns[2:]:\n",
        "        \n",
        "        print(column + ':' + str(test[column]))\n"
      ],
      "execution_count": null,
      "outputs": []
    },
    {
      "cell_type": "code",
      "metadata": {
        "id": "Z1RjgbFY1t-z",
        "outputId": "8973033d-1e35-4703-fa73-42536bfce6dd"
      },
      "source": [
        "#baseline \n",
        "show_chis(sample1,sample1)"
      ],
      "execution_count": null,
      "outputs": [
        {
          "output_type": "stream",
          "text": [
            "GENDER:Power_divergenceResult(statistic=0.0, pvalue=1.0)\n",
            "AGE:Power_divergenceResult(statistic=0.0, pvalue=1.0)\n",
            "STATE_ABBREVIATION:Power_divergenceResult(statistic=0.0, pvalue=nan)\n",
            "DMA_NAME_ACXIOM:Power_divergenceResult(statistic=0.0, pvalue=nan)\n",
            "DEMO_HH_INCOME:Power_divergenceResult(statistic=0.0, pvalue=1.0)\n",
            "ETHNICITY:Power_divergenceResult(statistic=0.0, pvalue=1.0)\n",
            "HOMEOWNERSHIP_STATUS:Power_divergenceResult(statistic=0.0, pvalue=1.0)\n",
            "EDUCATION:Power_divergenceResult(statistic=0.0, pvalue=1.0)\n"
          ],
          "name": "stdout"
        }
      ]
    },
    {
      "cell_type": "code",
      "metadata": {
        "id": "JqOEmExl1t-z",
        "outputId": "db9299dd-ef8e-44ac-d728-e07c8c3e3c7c"
      },
      "source": [
        "show_chis(sample1,sample2)"
      ],
      "execution_count": null,
      "outputs": [
        {
          "output_type": "stream",
          "text": [
            "GENDER:Power_divergenceResult(statistic=501823.19589639804, pvalue=0.0)\n",
            "AGE:Power_divergenceResult(statistic=475368.4053017627, pvalue=0.0)\n",
            "STATE_ABBREVIATION:Power_divergenceResult(statistic=522596.1409028056, pvalue=nan)\n",
            "DMA_NAME_ACXIOM:Power_divergenceResult(statistic=522596.1409028056, pvalue=nan)\n",
            "DEMO_HH_INCOME:Power_divergenceResult(statistic=534805.6115447863, pvalue=0.0)\n",
            "ETHNICITY:Power_divergenceResult(statistic=576975.4992734044, pvalue=0.0)\n",
            "HOMEOWNERSHIP_STATUS:Power_divergenceResult(statistic=524860.2202992102, pvalue=0.0)\n",
            "EDUCATION:Power_divergenceResult(statistic=528413.2998086155, pvalue=0.0)\n"
          ],
          "name": "stdout"
        }
      ]
    },
    {
      "cell_type": "code",
      "metadata": {
        "id": "e-fZu8uj1t-0"
      },
      "source": [
        ""
      ],
      "execution_count": null,
      "outputs": []
    }
  ]
}