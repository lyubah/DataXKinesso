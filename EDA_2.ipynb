{
  "nbformat": 4,
  "nbformat_minor": 0,
  "metadata": {
    "kernelspec": {
      "display_name": "Python 3",
      "language": "python",
      "name": "python3"
    },
    "language_info": {
      "codemirror_mode": {
        "name": "ipython",
        "version": 3
      },
      "file_extension": ".py",
      "mimetype": "text/x-python",
      "name": "python",
      "nbconvert_exporter": "python",
      "pygments_lexer": "ipython3",
      "version": "3.8.3"
    },
    "colab": {
      "name": "EDA-2.ipynb",
      "provenance": []
    }
  },
  "cells": [
    {
      "cell_type": "code",
      "metadata": {
        "id": "N26IVBwOGWxN"
      },
      "source": [
        "import numpy as np\n",
        "import pandas as pd\n",
        "import matplotlib as plt\n",
        "import sys\n",
        "assert 'zipfile' in sys.modules\n",
        "\n",
        "from sklearn.preprocessing import OneHotEncoder\n",
        "!pip install -U -q PyDrive\n",
        "from pydrive.auth import GoogleAuth\n",
        "from pydrive.drive import GoogleDrive\n",
        "from google.colab import auth\n",
        "from oauth2client.client import GoogleCredentials\n",
        "# Authenticate and create the PyDrive client.\n",
        "auth.authenticate_user()\n",
        "gauth = GoogleAuth()\n",
        "gauth.credentials = GoogleCredentials.get_application_default()\n",
        "drive = GoogleDrive(gauth)"
      ],
      "execution_count": null,
      "outputs": []
    },
    {
      "cell_type": "code",
      "metadata": {
        "id": "XQJL8scdHMqH",
        "colab": {
          "base_uri": "https://localhost:8080/",
          "height": 249
        },
        "outputId": "e2e17f10-9351-4f68-c46b-be5296cdce47"
      },
      "source": [
        "link = 'https://drive.google.com/file/d/1xoZGzL7mbE4AgqoXCECgNqEXeYS8ZJ5P/view?usp=sharing'\n",
        "#fluff, id = link.split('=')\n",
        "id = '1xoZGzL7mbE4AgqoXCECgNqEXeYS8ZJ5P'\n",
        "print (id) # Verify that you have everything after '='\n",
        "downloaded = drive.CreateFile({'id':id}) \n",
        "downloaded.GetContentFile('Audience_LA_DMA.csv')  \n",
        "\n"
      ],
      "execution_count": null,
      "outputs": [
        {
          "output_type": "stream",
          "text": [
            "1xoZGzL7mbE4AgqoXCECgNqEXeYS8ZJ5P\n"
          ],
          "name": "stdout"
        },
        {
          "output_type": "error",
          "ename": "NameError",
          "evalue": "ignored",
          "traceback": [
            "\u001b[0;31m---------------------------------------------------------------------------\u001b[0m",
            "\u001b[0;31mNameError\u001b[0m                                 Traceback (most recent call last)",
            "\u001b[0;32m<ipython-input-3-dea5d6ecfcdf>\u001b[0m in \u001b[0;36m<module>\u001b[0;34m()\u001b[0m\n\u001b[1;32m      3\u001b[0m \u001b[0mid\u001b[0m \u001b[0;34m=\u001b[0m \u001b[0;34m'1xoZGzL7mbE4AgqoXCECgNqEXeYS8ZJ5P'\u001b[0m\u001b[0;34m\u001b[0m\u001b[0;34m\u001b[0m\u001b[0m\n\u001b[1;32m      4\u001b[0m \u001b[0mprint\u001b[0m \u001b[0;34m(\u001b[0m\u001b[0mid\u001b[0m\u001b[0;34m)\u001b[0m \u001b[0;31m# Verify that you have everything after '='\u001b[0m\u001b[0;34m\u001b[0m\u001b[0;34m\u001b[0m\u001b[0m\n\u001b[0;32m----> 5\u001b[0;31m \u001b[0mdownloaded\u001b[0m \u001b[0;34m=\u001b[0m \u001b[0mdrive\u001b[0m\u001b[0;34m.\u001b[0m\u001b[0mCreateFile\u001b[0m\u001b[0;34m(\u001b[0m\u001b[0;34m{\u001b[0m\u001b[0;34m'id'\u001b[0m\u001b[0;34m:\u001b[0m\u001b[0mid\u001b[0m\u001b[0;34m}\u001b[0m\u001b[0;34m)\u001b[0m\u001b[0;34m\u001b[0m\u001b[0;34m\u001b[0m\u001b[0m\n\u001b[0m\u001b[1;32m      6\u001b[0m \u001b[0mdownloaded\u001b[0m\u001b[0;34m.\u001b[0m\u001b[0mGetContentFile\u001b[0m\u001b[0;34m(\u001b[0m\u001b[0;34m'Audience_LA_DMA.csv'\u001b[0m\u001b[0;34m)\u001b[0m\u001b[0;34m\u001b[0m\u001b[0;34m\u001b[0m\u001b[0m\n\u001b[1;32m      7\u001b[0m \u001b[0;34m\u001b[0m\u001b[0m\n",
            "\u001b[0;31mNameError\u001b[0m: name 'drive' is not defined"
          ]
        }
      ]
    },
    {
      "cell_type": "code",
      "metadata": {
        "id": "CkJkje9RGWxW"
      },
      "source": [
        "\n",
        "df = pd.read_csv('Audience_LA_DMA.csv')"
      ],
      "execution_count": null,
      "outputs": []
    },
    {
      "cell_type": "code",
      "metadata": {
        "id": "7I-5ya-9HLPO"
      },
      "source": [
        ""
      ],
      "execution_count": null,
      "outputs": []
    },
    {
      "cell_type": "code",
      "metadata": {
        "id": "GiO9bZ6UGWxW"
      },
      "source": [
        "df.head(50)"
      ],
      "execution_count": null,
      "outputs": []
    },
    {
      "cell_type": "code",
      "metadata": {
        "id": "AB-LL0fPGWxX"
      },
      "source": [
        "df.isna().sum()"
      ],
      "execution_count": null,
      "outputs": []
    },
    {
      "cell_type": "markdown",
      "metadata": {
        "id": "axIpm1WkGWxY"
      },
      "source": [
        "# Dropping Null Values"
      ]
    },
    {
      "cell_type": "code",
      "metadata": {
        "colab": {
          "base_uri": "https://localhost:8080/",
          "height": 142
        },
        "id": "kZjsYeJZGWxY",
        "outputId": "be81264b-4e7f-47a5-eb2b-542e37b0aa9b"
      },
      "source": [
        "# make gender M:0, F:1, NAN=3, and group 3 \n",
        "#Lubah task\n",
        "df.pivot_table(index='GENDER', columns='ETHNICITY', values=\"Unnamed: 0\",aggfunc= 'count' )"
      ],
      "execution_count": null,
      "outputs": [
        {
          "output_type": "execute_result",
          "data": {
            "text/html": [
              "<div>\n",
              "<style scoped>\n",
              "    .dataframe tbody tr th:only-of-type {\n",
              "        vertical-align: middle;\n",
              "    }\n",
              "\n",
              "    .dataframe tbody tr th {\n",
              "        vertical-align: top;\n",
              "    }\n",
              "\n",
              "    .dataframe thead th {\n",
              "        text-align: right;\n",
              "    }\n",
              "</style>\n",
              "<table border=\"1\" class=\"dataframe\">\n",
              "  <thead>\n",
              "    <tr style=\"text-align: right;\">\n",
              "      <th>ETHNICITY</th>\n",
              "      <th>African American</th>\n",
              "      <th>Asian</th>\n",
              "      <th>Hispanic</th>\n",
              "      <th>White</th>\n",
              "    </tr>\n",
              "    <tr>\n",
              "      <th>GENDER</th>\n",
              "      <th></th>\n",
              "      <th></th>\n",
              "      <th></th>\n",
              "      <th></th>\n",
              "    </tr>\n",
              "  </thead>\n",
              "  <tbody>\n",
              "    <tr>\n",
              "      <th>F</th>\n",
              "      <td>263592</td>\n",
              "      <td>662463</td>\n",
              "      <td>2241155</td>\n",
              "      <td>2927319</td>\n",
              "    </tr>\n",
              "    <tr>\n",
              "      <th>M</th>\n",
              "      <td>228621</td>\n",
              "      <td>672326</td>\n",
              "      <td>2013649</td>\n",
              "      <td>2816115</td>\n",
              "    </tr>\n",
              "  </tbody>\n",
              "</table>\n",
              "</div>"
            ],
            "text/plain": [
              "ETHNICITY  African American   Asian  Hispanic    White\n",
              "GENDER                                                \n",
              "F                    263592  662463   2241155  2927319\n",
              "M                    228621  672326   2013649  2816115"
            ]
          },
          "metadata": {
            "tags": []
          },
          "execution_count": 13
        }
      ]
    },
    {
      "cell_type": "code",
      "metadata": {
        "id": "-jFyB4jbGWxZ"
      },
      "source": [
        "df2= df.dropna()"
      ],
      "execution_count": null,
      "outputs": []
    },
    {
      "cell_type": "code",
      "metadata": {
        "colab": {
          "base_uri": "https://localhost:8080/"
        },
        "id": "JYz95eKsGWxZ",
        "outputId": "956758a0-6fae-4af9-b75b-4be936f55d6b"
      },
      "source": [
        "df2.shape\n"
      ],
      "execution_count": null,
      "outputs": [
        {
          "output_type": "execute_result",
          "data": {
            "text/plain": [
              "(11825205, 7)"
            ]
          },
          "metadata": {
            "tags": []
          },
          "execution_count": 15
        }
      ]
    },
    {
      "cell_type": "code",
      "metadata": {
        "colab": {
          "base_uri": "https://localhost:8080/"
        },
        "id": "-g8DcNR0GWxa",
        "outputId": "14e22e29-4020-487c-d5ee-d57f83d73e12"
      },
      "source": [
        "df.shape"
      ],
      "execution_count": null,
      "outputs": [
        {
          "output_type": "execute_result",
          "data": {
            "text/plain": [
              "(11945369, 7)"
            ]
          },
          "metadata": {
            "tags": []
          },
          "execution_count": 16
        }
      ]
    },
    {
      "cell_type": "code",
      "metadata": {
        "id": "EUDJgboPGWxb"
      },
      "source": [
        "df2 = df2.rename(columns = {'ETHNICITY': 'RACE', 'Unnamed: 0':'ID'})\n"
      ],
      "execution_count": null,
      "outputs": []
    },
    {
      "cell_type": "code",
      "metadata": {
        "colab": {
          "base_uri": "https://localhost:8080/",
          "height": 419
        },
        "id": "D4Zy7BleGWxb",
        "outputId": "afe63052-588c-47c4-b5b3-ef6bac0d8bfc"
      },
      "source": [
        "df2"
      ],
      "execution_count": null,
      "outputs": [
        {
          "output_type": "execute_result",
          "data": {
            "text/html": [
              "<div>\n",
              "<style scoped>\n",
              "    .dataframe tbody tr th:only-of-type {\n",
              "        vertical-align: middle;\n",
              "    }\n",
              "\n",
              "    .dataframe tbody tr th {\n",
              "        vertical-align: top;\n",
              "    }\n",
              "\n",
              "    .dataframe thead th {\n",
              "        text-align: right;\n",
              "    }\n",
              "</style>\n",
              "<table border=\"1\" class=\"dataframe\">\n",
              "  <thead>\n",
              "    <tr style=\"text-align: right;\">\n",
              "      <th></th>\n",
              "      <th>ID</th>\n",
              "      <th>ZIP</th>\n",
              "      <th>GENDER</th>\n",
              "      <th>AGE</th>\n",
              "      <th>DEMO_HH_INCOME</th>\n",
              "      <th>RACE</th>\n",
              "      <th>HOMEOWNERSHIP_STATUS</th>\n",
              "    </tr>\n",
              "  </thead>\n",
              "  <tbody>\n",
              "    <tr>\n",
              "      <th>0</th>\n",
              "      <td>0</td>\n",
              "      <td>90290</td>\n",
              "      <td>F</td>\n",
              "      <td>35.0</td>\n",
              "      <td>$75,000 to $99,999</td>\n",
              "      <td>White</td>\n",
              "      <td>Homeowner</td>\n",
              "    </tr>\n",
              "    <tr>\n",
              "      <th>1</th>\n",
              "      <td>1</td>\n",
              "      <td>90036</td>\n",
              "      <td>F</td>\n",
              "      <td>37.0</td>\n",
              "      <td>$100,000 to $149,999</td>\n",
              "      <td>White</td>\n",
              "      <td>Homeowner</td>\n",
              "    </tr>\n",
              "    <tr>\n",
              "      <th>2</th>\n",
              "      <td>2</td>\n",
              "      <td>92376</td>\n",
              "      <td>M</td>\n",
              "      <td>51.0</td>\n",
              "      <td>$30,000 to $49,999</td>\n",
              "      <td>White</td>\n",
              "      <td>Homeowner</td>\n",
              "    </tr>\n",
              "    <tr>\n",
              "      <th>3</th>\n",
              "      <td>3</td>\n",
              "      <td>91767</td>\n",
              "      <td>F</td>\n",
              "      <td>81.0</td>\n",
              "      <td>Less than $30,000</td>\n",
              "      <td>Asian</td>\n",
              "      <td>Homeowner</td>\n",
              "    </tr>\n",
              "    <tr>\n",
              "      <th>4</th>\n",
              "      <td>4</td>\n",
              "      <td>92345</td>\n",
              "      <td>F</td>\n",
              "      <td>29.0</td>\n",
              "      <td>$30,000 to $49,999</td>\n",
              "      <td>White</td>\n",
              "      <td>Renter</td>\n",
              "    </tr>\n",
              "    <tr>\n",
              "      <th>...</th>\n",
              "      <td>...</td>\n",
              "      <td>...</td>\n",
              "      <td>...</td>\n",
              "      <td>...</td>\n",
              "      <td>...</td>\n",
              "      <td>...</td>\n",
              "      <td>...</td>\n",
              "    </tr>\n",
              "    <tr>\n",
              "      <th>11945364</th>\n",
              "      <td>11945364</td>\n",
              "      <td>91354</td>\n",
              "      <td>F</td>\n",
              "      <td>53.0</td>\n",
              "      <td>$100,000 to $149,999</td>\n",
              "      <td>Hispanic</td>\n",
              "      <td>Renter</td>\n",
              "    </tr>\n",
              "    <tr>\n",
              "      <th>11945365</th>\n",
              "      <td>11945365</td>\n",
              "      <td>90262</td>\n",
              "      <td>M</td>\n",
              "      <td>45.0</td>\n",
              "      <td>Less than $30,000</td>\n",
              "      <td>Hispanic</td>\n",
              "      <td>Homeowner</td>\n",
              "    </tr>\n",
              "    <tr>\n",
              "      <th>11945366</th>\n",
              "      <td>11945366</td>\n",
              "      <td>91326</td>\n",
              "      <td>F</td>\n",
              "      <td>27.0</td>\n",
              "      <td>$30,000 to $49,999</td>\n",
              "      <td>Asian</td>\n",
              "      <td>Homeowner</td>\n",
              "    </tr>\n",
              "    <tr>\n",
              "      <th>11945367</th>\n",
              "      <td>11945367</td>\n",
              "      <td>92672</td>\n",
              "      <td>M</td>\n",
              "      <td>73.0</td>\n",
              "      <td>$100,000 to $149,999</td>\n",
              "      <td>White</td>\n",
              "      <td>Homeowner</td>\n",
              "    </tr>\n",
              "    <tr>\n",
              "      <th>11945368</th>\n",
              "      <td>11945368</td>\n",
              "      <td>92646</td>\n",
              "      <td>M</td>\n",
              "      <td>69.0</td>\n",
              "      <td>$150,000 to $199,999</td>\n",
              "      <td>White</td>\n",
              "      <td>Renter</td>\n",
              "    </tr>\n",
              "  </tbody>\n",
              "</table>\n",
              "<p>11825205 rows × 7 columns</p>\n",
              "</div>"
            ],
            "text/plain": [
              "                ID    ZIP  ...      RACE  HOMEOWNERSHIP_STATUS\n",
              "0                0  90290  ...     White             Homeowner\n",
              "1                1  90036  ...     White             Homeowner\n",
              "2                2  92376  ...     White             Homeowner\n",
              "3                3  91767  ...     Asian             Homeowner\n",
              "4                4  92345  ...     White                Renter\n",
              "...            ...    ...  ...       ...                   ...\n",
              "11945364  11945364  91354  ...  Hispanic                Renter\n",
              "11945365  11945365  90262  ...  Hispanic             Homeowner\n",
              "11945366  11945366  91326  ...     Asian             Homeowner\n",
              "11945367  11945367  92672  ...     White             Homeowner\n",
              "11945368  11945368  92646  ...     White                Renter\n",
              "\n",
              "[11825205 rows x 7 columns]"
            ]
          },
          "metadata": {
            "tags": []
          },
          "execution_count": 18
        }
      ]
    },
    {
      "cell_type": "code",
      "metadata": {
        "colab": {
          "base_uri": "https://localhost:8080/",
          "height": 456
        },
        "id": "SFvGV6cYGWxc",
        "outputId": "cb16a788-418d-4d04-a174-54088b5571ae"
      },
      "source": [
        "pd.get_dummies(df2, columns=['DEMO_HH_INCOME'])"
      ],
      "execution_count": null,
      "outputs": [
        {
          "output_type": "execute_result",
          "data": {
            "text/html": [
              "<div>\n",
              "<style scoped>\n",
              "    .dataframe tbody tr th:only-of-type {\n",
              "        vertical-align: middle;\n",
              "    }\n",
              "\n",
              "    .dataframe tbody tr th {\n",
              "        vertical-align: top;\n",
              "    }\n",
              "\n",
              "    .dataframe thead th {\n",
              "        text-align: right;\n",
              "    }\n",
              "</style>\n",
              "<table border=\"1\" class=\"dataframe\">\n",
              "  <thead>\n",
              "    <tr style=\"text-align: right;\">\n",
              "      <th></th>\n",
              "      <th>ID</th>\n",
              "      <th>ZIP</th>\n",
              "      <th>GENDER</th>\n",
              "      <th>AGE</th>\n",
              "      <th>RACE</th>\n",
              "      <th>HOMEOWNERSHIP_STATUS</th>\n",
              "      <th>DEMO_HH_INCOME_$100,000 to $149,999</th>\n",
              "      <th>DEMO_HH_INCOME_$150,000 to $199,999</th>\n",
              "      <th>DEMO_HH_INCOME_$200,000 to $249,999</th>\n",
              "      <th>DEMO_HH_INCOME_$250,000 +</th>\n",
              "      <th>DEMO_HH_INCOME_$30,000 to $49,999</th>\n",
              "      <th>DEMO_HH_INCOME_$50,000 to $74,999</th>\n",
              "      <th>DEMO_HH_INCOME_$75,000 to $99,999</th>\n",
              "      <th>DEMO_HH_INCOME_Less than $30,000</th>\n",
              "    </tr>\n",
              "  </thead>\n",
              "  <tbody>\n",
              "    <tr>\n",
              "      <th>0</th>\n",
              "      <td>0</td>\n",
              "      <td>90290</td>\n",
              "      <td>F</td>\n",
              "      <td>35.0</td>\n",
              "      <td>White</td>\n",
              "      <td>Homeowner</td>\n",
              "      <td>0</td>\n",
              "      <td>0</td>\n",
              "      <td>0</td>\n",
              "      <td>0</td>\n",
              "      <td>0</td>\n",
              "      <td>0</td>\n",
              "      <td>1</td>\n",
              "      <td>0</td>\n",
              "    </tr>\n",
              "    <tr>\n",
              "      <th>1</th>\n",
              "      <td>1</td>\n",
              "      <td>90036</td>\n",
              "      <td>F</td>\n",
              "      <td>37.0</td>\n",
              "      <td>White</td>\n",
              "      <td>Homeowner</td>\n",
              "      <td>1</td>\n",
              "      <td>0</td>\n",
              "      <td>0</td>\n",
              "      <td>0</td>\n",
              "      <td>0</td>\n",
              "      <td>0</td>\n",
              "      <td>0</td>\n",
              "      <td>0</td>\n",
              "    </tr>\n",
              "    <tr>\n",
              "      <th>2</th>\n",
              "      <td>2</td>\n",
              "      <td>92376</td>\n",
              "      <td>M</td>\n",
              "      <td>51.0</td>\n",
              "      <td>White</td>\n",
              "      <td>Homeowner</td>\n",
              "      <td>0</td>\n",
              "      <td>0</td>\n",
              "      <td>0</td>\n",
              "      <td>0</td>\n",
              "      <td>1</td>\n",
              "      <td>0</td>\n",
              "      <td>0</td>\n",
              "      <td>0</td>\n",
              "    </tr>\n",
              "    <tr>\n",
              "      <th>3</th>\n",
              "      <td>3</td>\n",
              "      <td>91767</td>\n",
              "      <td>F</td>\n",
              "      <td>81.0</td>\n",
              "      <td>Asian</td>\n",
              "      <td>Homeowner</td>\n",
              "      <td>0</td>\n",
              "      <td>0</td>\n",
              "      <td>0</td>\n",
              "      <td>0</td>\n",
              "      <td>0</td>\n",
              "      <td>0</td>\n",
              "      <td>0</td>\n",
              "      <td>1</td>\n",
              "    </tr>\n",
              "    <tr>\n",
              "      <th>4</th>\n",
              "      <td>4</td>\n",
              "      <td>92345</td>\n",
              "      <td>F</td>\n",
              "      <td>29.0</td>\n",
              "      <td>White</td>\n",
              "      <td>Renter</td>\n",
              "      <td>0</td>\n",
              "      <td>0</td>\n",
              "      <td>0</td>\n",
              "      <td>0</td>\n",
              "      <td>1</td>\n",
              "      <td>0</td>\n",
              "      <td>0</td>\n",
              "      <td>0</td>\n",
              "    </tr>\n",
              "    <tr>\n",
              "      <th>...</th>\n",
              "      <td>...</td>\n",
              "      <td>...</td>\n",
              "      <td>...</td>\n",
              "      <td>...</td>\n",
              "      <td>...</td>\n",
              "      <td>...</td>\n",
              "      <td>...</td>\n",
              "      <td>...</td>\n",
              "      <td>...</td>\n",
              "      <td>...</td>\n",
              "      <td>...</td>\n",
              "      <td>...</td>\n",
              "      <td>...</td>\n",
              "      <td>...</td>\n",
              "    </tr>\n",
              "    <tr>\n",
              "      <th>11945364</th>\n",
              "      <td>11945364</td>\n",
              "      <td>91354</td>\n",
              "      <td>F</td>\n",
              "      <td>53.0</td>\n",
              "      <td>Hispanic</td>\n",
              "      <td>Renter</td>\n",
              "      <td>1</td>\n",
              "      <td>0</td>\n",
              "      <td>0</td>\n",
              "      <td>0</td>\n",
              "      <td>0</td>\n",
              "      <td>0</td>\n",
              "      <td>0</td>\n",
              "      <td>0</td>\n",
              "    </tr>\n",
              "    <tr>\n",
              "      <th>11945365</th>\n",
              "      <td>11945365</td>\n",
              "      <td>90262</td>\n",
              "      <td>M</td>\n",
              "      <td>45.0</td>\n",
              "      <td>Hispanic</td>\n",
              "      <td>Homeowner</td>\n",
              "      <td>0</td>\n",
              "      <td>0</td>\n",
              "      <td>0</td>\n",
              "      <td>0</td>\n",
              "      <td>0</td>\n",
              "      <td>0</td>\n",
              "      <td>0</td>\n",
              "      <td>1</td>\n",
              "    </tr>\n",
              "    <tr>\n",
              "      <th>11945366</th>\n",
              "      <td>11945366</td>\n",
              "      <td>91326</td>\n",
              "      <td>F</td>\n",
              "      <td>27.0</td>\n",
              "      <td>Asian</td>\n",
              "      <td>Homeowner</td>\n",
              "      <td>0</td>\n",
              "      <td>0</td>\n",
              "      <td>0</td>\n",
              "      <td>0</td>\n",
              "      <td>1</td>\n",
              "      <td>0</td>\n",
              "      <td>0</td>\n",
              "      <td>0</td>\n",
              "    </tr>\n",
              "    <tr>\n",
              "      <th>11945367</th>\n",
              "      <td>11945367</td>\n",
              "      <td>92672</td>\n",
              "      <td>M</td>\n",
              "      <td>73.0</td>\n",
              "      <td>White</td>\n",
              "      <td>Homeowner</td>\n",
              "      <td>1</td>\n",
              "      <td>0</td>\n",
              "      <td>0</td>\n",
              "      <td>0</td>\n",
              "      <td>0</td>\n",
              "      <td>0</td>\n",
              "      <td>0</td>\n",
              "      <td>0</td>\n",
              "    </tr>\n",
              "    <tr>\n",
              "      <th>11945368</th>\n",
              "      <td>11945368</td>\n",
              "      <td>92646</td>\n",
              "      <td>M</td>\n",
              "      <td>69.0</td>\n",
              "      <td>White</td>\n",
              "      <td>Renter</td>\n",
              "      <td>0</td>\n",
              "      <td>1</td>\n",
              "      <td>0</td>\n",
              "      <td>0</td>\n",
              "      <td>0</td>\n",
              "      <td>0</td>\n",
              "      <td>0</td>\n",
              "      <td>0</td>\n",
              "    </tr>\n",
              "  </tbody>\n",
              "</table>\n",
              "<p>11825205 rows × 14 columns</p>\n",
              "</div>"
            ],
            "text/plain": [
              "                ID  ...  DEMO_HH_INCOME_Less than $30,000\n",
              "0                0  ...                                 0\n",
              "1                1  ...                                 0\n",
              "2                2  ...                                 0\n",
              "3                3  ...                                 1\n",
              "4                4  ...                                 0\n",
              "...            ...  ...                               ...\n",
              "11945364  11945364  ...                                 0\n",
              "11945365  11945365  ...                                 1\n",
              "11945366  11945366  ...                                 0\n",
              "11945367  11945367  ...                                 0\n",
              "11945368  11945368  ...                                 0\n",
              "\n",
              "[11825205 rows x 14 columns]"
            ]
          },
          "metadata": {
            "tags": []
          },
          "execution_count": 19
        }
      ]
    },
    {
      "cell_type": "code",
      "metadata": {
        "id": "sXSBTZEpGWxc"
      },
      "source": [
        ""
      ],
      "execution_count": null,
      "outputs": []
    },
    {
      "cell_type": "code",
      "metadata": {
        "id": "gRmCwGpzGWxc"
      },
      "source": [
        ""
      ],
      "execution_count": null,
      "outputs": []
    },
    {
      "cell_type": "code",
      "metadata": {
        "id": "_3-CTXNLGWxd"
      },
      "source": [
        "#enc = OneHotEncoder(handle_unknown='ignore')\n",
        "#enc.fit(df2[['ID', 'DEMO_HH_INCOME']])"
      ],
      "execution_count": null,
      "outputs": []
    },
    {
      "cell_type": "code",
      "metadata": {
        "id": "UmjSVS96GWxd"
      },
      "source": [
        "#enc.categories_"
      ],
      "execution_count": null,
      "outputs": []
    },
    {
      "cell_type": "code",
      "metadata": {
        "id": "8utjfv7cGWxd"
      },
      "source": [
        "#y = enc.transform(df2[['ID', 'DEMO_HH_INCOME']])"
      ],
      "execution_count": null,
      "outputs": []
    },
    {
      "cell_type": "code",
      "metadata": {
        "id": "2ZO7BPufGWxe"
      },
      "source": [
        ""
      ],
      "execution_count": null,
      "outputs": []
    },
    {
      "cell_type": "code",
      "metadata": {
        "id": "yQAvdMRyGWxf"
      },
      "source": [
        ""
      ],
      "execution_count": null,
      "outputs": []
    },
    {
      "cell_type": "code",
      "metadata": {
        "id": "uLzxXJhqGWxf"
      },
      "source": [
        ""
      ],
      "execution_count": null,
      "outputs": []
    },
    {
      "cell_type": "code",
      "metadata": {
        "id": "3oFm4HHWGWxg"
      },
      "source": [
        ""
      ],
      "execution_count": null,
      "outputs": []
    },
    {
      "cell_type": "code",
      "metadata": {
        "id": "tSEgEwvnGWxg"
      },
      "source": [
        ""
      ],
      "execution_count": null,
      "outputs": []
    }
  ]
}