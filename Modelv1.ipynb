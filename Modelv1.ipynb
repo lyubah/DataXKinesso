{
  "nbformat": 4,
  "nbformat_minor": 0,
  "metadata": {
    "colab": {
      "name": "Modelv1.ipynb",
      "provenance": [],
      "collapsed_sections": [],
      "toc_visible": true
    },
    "kernelspec": {
      "display_name": "Python 3",
      "language": "python",
      "name": "python3"
    },
    "language_info": {
      "codemirror_mode": {
        "name": "ipython",
        "version": 3
      },
      "file_extension": ".py",
      "mimetype": "text/x-python",
      "name": "python",
      "nbconvert_exporter": "python",
      "pygments_lexer": "ipython3",
      "version": "3.8.3"
    },
    "widgets": {
      "application/vnd.jupyter.widget-state+json": {
        "d6f6b6020bf64640a93d4efb8aab6f36": {
          "model_module": "@jupyter-widgets/controls",
          "model_name": "DropdownModel",
          "state": {
            "_options_labels": [
              "1",
              "2",
              "3"
            ],
            "_view_name": "DropdownView",
            "style": "IPY_MODEL_d067a92ea7414cdea0a1c5b2ec76bb64",
            "_dom_classes": [],
            "description": "Number:",
            "_model_name": "DropdownModel",
            "index": 1,
            "_view_module": "@jupyter-widgets/controls",
            "_model_module_version": "1.5.0",
            "_view_count": null,
            "disabled": false,
            "_view_module_version": "1.5.0",
            "description_tooltip": null,
            "_model_module": "@jupyter-widgets/controls",
            "layout": "IPY_MODEL_05df50fdeab5459b8a4492dab16a3eb7"
          }
        },
        "d067a92ea7414cdea0a1c5b2ec76bb64": {
          "model_module": "@jupyter-widgets/controls",
          "model_name": "DescriptionStyleModel",
          "state": {
            "_view_name": "StyleView",
            "_model_name": "DescriptionStyleModel",
            "description_width": "",
            "_view_module": "@jupyter-widgets/base",
            "_model_module_version": "1.5.0",
            "_view_count": null,
            "_view_module_version": "1.2.0",
            "_model_module": "@jupyter-widgets/controls"
          }
        },
        "05df50fdeab5459b8a4492dab16a3eb7": {
          "model_module": "@jupyter-widgets/base",
          "model_name": "LayoutModel",
          "state": {
            "_view_name": "LayoutView",
            "grid_template_rows": null,
            "right": null,
            "justify_content": null,
            "_view_module": "@jupyter-widgets/base",
            "overflow": null,
            "_model_module_version": "1.2.0",
            "_view_count": null,
            "flex_flow": null,
            "width": null,
            "min_width": null,
            "border": null,
            "align_items": null,
            "bottom": null,
            "_model_module": "@jupyter-widgets/base",
            "top": null,
            "grid_column": null,
            "overflow_y": null,
            "overflow_x": null,
            "grid_auto_flow": null,
            "grid_area": null,
            "grid_template_columns": null,
            "flex": null,
            "_model_name": "LayoutModel",
            "justify_items": null,
            "grid_row": null,
            "max_height": null,
            "align_content": null,
            "visibility": null,
            "align_self": null,
            "height": null,
            "min_height": null,
            "padding": null,
            "grid_auto_rows": null,
            "grid_gap": null,
            "max_width": null,
            "order": null,
            "_view_module_version": "1.2.0",
            "grid_template_areas": null,
            "object_position": null,
            "object_fit": null,
            "grid_auto_columns": null,
            "margin": null,
            "display": null,
            "left": null
          }
        }
      }
    }
  },
  "cells": [
    {
      "cell_type": "code",
      "metadata": {
        "id": "N26IVBwOGWxN"
      },
      "source": [
        "import numpy as np\n",
        "import pandas as pd\n",
        "import matplotlib as plt\n",
        "import sys\n",
        "assert 'zipfile' in sys.modules\n",
        "import math\n",
        "import seaborn as sns\n",
        "import matplotlib.pyplot as plt\n",
        "\n",
        "# import the widgets module\n",
        "import ipywidgets as widgets\n",
        "from ipywidgets import interact, interactive, fixed, interact_manual\n",
        "\n",
        "import scipy.stats as ss\n",
        "from collections import Counter\n",
        "import warnings\n",
        "from sklearn.preprocessing import OneHotEncoder\n",
        "!pip install -U -q PyDrive\n",
        "from pydrive.auth import GoogleAuth\n",
        "from pydrive.drive import GoogleDrive\n",
        "from google.colab import auth\n",
        "from oauth2client.client import GoogleCredentials\n",
        "# Authenticate and create the PyDrive client.\n",
        "auth.authenticate_user()\n",
        "gauth = GoogleAuth()\n",
        "gauth.credentials = GoogleCredentials.get_application_default()\n",
        "drive = GoogleDrive(gauth)"
      ],
      "execution_count": null,
      "outputs": []
    },
    {
      "cell_type": "code",
      "metadata": {
        "colab": {
          "base_uri": "https://localhost:8080/"
        },
        "id": "XQJL8scdHMqH",
        "outputId": "1dd948bf-75de-4033-8059-cd94bab292ad"
      },
      "source": [
        "link = 'https://drive.google.com/file/d/1xoZGzL7mbE4AgqoXCECgNqEXeYS8ZJ5P/view?usp=sharing'\n",
        "#fluff, id = link.split('=')\n",
        "id = '1xoZGzL7mbE4AgqoXCECgNqEXeYS8ZJ5P'\n",
        "print (id) # Verify that you have everything after '='\n",
        "downloaded = drive.CreateFile({'id':id}) \n",
        "downloaded.GetContentFile('Audience_LA_DMA.csv')  \n",
        "\n"
      ],
      "execution_count": null,
      "outputs": [
        {
          "output_type": "stream",
          "text": [
            "1xoZGzL7mbE4AgqoXCECgNqEXeYS8ZJ5P\n"
          ],
          "name": "stdout"
        }
      ]
    },
    {
      "cell_type": "markdown",
      "metadata": {
        "id": "98T70a19GPAV"
      },
      "source": [
        "# MODEL PROTOTYPE V.1:\n"
      ]
    },
    {
      "cell_type": "markdown",
      "metadata": {
        "id": "DZNhpv8mhiz6"
      },
      "source": [
        "## The Narrative: \n",
        "Our product is a solution to an industry-wide dilemma of how to keep data unbiased once put through a workflow. We want to ensure that the data accurately represents the population of the datafied world. Our goal is to ultimately make a tool useful to Kinesso, and in general advertisement firms and their clients, who would want their actual audience pool to be wider and more representative of the intended audience.\n",
        "\n"
      ]
    },
    {
      "cell_type": "markdown",
      "metadata": {
        "id": "up76zreah6ne"
      },
      "source": [
        "## The Solution: \n",
        "\n",
        "A common fix to unbiasing the data is to keep on introducing new clean data. However, the data inevitably is sullied. Our solution tackles bias during the early stages of workflow, specifically during audience assembly. The product will accompany the SQL like workflow of Kinesso in building their audiences for campaigns, and alarm the user when there is potential bias in their audience selection.\n"
      ]
    },
    {
      "cell_type": "markdown",
      "metadata": {
        "id": "ufogngjVzizW"
      },
      "source": [
        "EXAMPLE OF WORKFLOW WITH SOME EDA: "
      ]
    },
    {
      "cell_type": "markdown",
      "metadata": {
        "id": "iVc6UhQ_znAx"
      },
      "source": [
        "**disclaimer: the following scenario is a very simplified version of what actually happens in the real world** \n",
        "\n",
        "Our client Toyota asks us to help them run a campaign in LA. We go to our vast database and start building an audience. We start with a vast dataset of past log events with geographical information. \n",
        " \n"
      ]
    },
    {
      "cell_type": "code",
      "metadata": {
        "colab": {
          "base_uri": "https://localhost:8080/",
          "height": 359
        },
        "id": "CkJkje9RGWxW",
        "outputId": "3f495870-e0fe-4627-ee13-77311b5fafcf"
      },
      "source": [
        "df = pd.read_csv('Audience_LA_DMA.csv')\n",
        "df.head(10)"
      ],
      "execution_count": null,
      "outputs": [
        {
          "output_type": "execute_result",
          "data": {
            "text/html": [
              "<div>\n",
              "<style scoped>\n",
              "    .dataframe tbody tr th:only-of-type {\n",
              "        vertical-align: middle;\n",
              "    }\n",
              "\n",
              "    .dataframe tbody tr th {\n",
              "        vertical-align: top;\n",
              "    }\n",
              "\n",
              "    .dataframe thead th {\n",
              "        text-align: right;\n",
              "    }\n",
              "</style>\n",
              "<table border=\"1\" class=\"dataframe\">\n",
              "  <thead>\n",
              "    <tr style=\"text-align: right;\">\n",
              "      <th></th>\n",
              "      <th>Unnamed: 0</th>\n",
              "      <th>ZIP</th>\n",
              "      <th>GENDER</th>\n",
              "      <th>AGE</th>\n",
              "      <th>DEMO_HH_INCOME</th>\n",
              "      <th>ETHNICITY</th>\n",
              "      <th>HOMEOWNERSHIP_STATUS</th>\n",
              "    </tr>\n",
              "  </thead>\n",
              "  <tbody>\n",
              "    <tr>\n",
              "      <th>0</th>\n",
              "      <td>0</td>\n",
              "      <td>90290</td>\n",
              "      <td>F</td>\n",
              "      <td>35.0</td>\n",
              "      <td>$75,000 to $99,999</td>\n",
              "      <td>White</td>\n",
              "      <td>Homeowner</td>\n",
              "    </tr>\n",
              "    <tr>\n",
              "      <th>1</th>\n",
              "      <td>1</td>\n",
              "      <td>90036</td>\n",
              "      <td>F</td>\n",
              "      <td>37.0</td>\n",
              "      <td>$100,000 to $149,999</td>\n",
              "      <td>White</td>\n",
              "      <td>Homeowner</td>\n",
              "    </tr>\n",
              "    <tr>\n",
              "      <th>2</th>\n",
              "      <td>2</td>\n",
              "      <td>92376</td>\n",
              "      <td>M</td>\n",
              "      <td>51.0</td>\n",
              "      <td>$30,000 to $49,999</td>\n",
              "      <td>White</td>\n",
              "      <td>Homeowner</td>\n",
              "    </tr>\n",
              "    <tr>\n",
              "      <th>3</th>\n",
              "      <td>3</td>\n",
              "      <td>91767</td>\n",
              "      <td>F</td>\n",
              "      <td>81.0</td>\n",
              "      <td>Less than $30,000</td>\n",
              "      <td>Asian</td>\n",
              "      <td>Homeowner</td>\n",
              "    </tr>\n",
              "    <tr>\n",
              "      <th>4</th>\n",
              "      <td>4</td>\n",
              "      <td>92345</td>\n",
              "      <td>F</td>\n",
              "      <td>29.0</td>\n",
              "      <td>$30,000 to $49,999</td>\n",
              "      <td>White</td>\n",
              "      <td>Renter</td>\n",
              "    </tr>\n",
              "    <tr>\n",
              "      <th>5</th>\n",
              "      <td>5</td>\n",
              "      <td>92225</td>\n",
              "      <td>M</td>\n",
              "      <td>63.0</td>\n",
              "      <td>$50,000 to $74,999</td>\n",
              "      <td>Hispanic</td>\n",
              "      <td>Homeowner</td>\n",
              "    </tr>\n",
              "    <tr>\n",
              "      <th>6</th>\n",
              "      <td>6</td>\n",
              "      <td>90032</td>\n",
              "      <td>F</td>\n",
              "      <td>69.0</td>\n",
              "      <td>$75,000 to $99,999</td>\n",
              "      <td>Hispanic</td>\n",
              "      <td>Renter</td>\n",
              "    </tr>\n",
              "    <tr>\n",
              "      <th>7</th>\n",
              "      <td>7</td>\n",
              "      <td>90301</td>\n",
              "      <td>M</td>\n",
              "      <td>69.0</td>\n",
              "      <td>Less than $30,000</td>\n",
              "      <td>White</td>\n",
              "      <td>Renter</td>\n",
              "    </tr>\n",
              "    <tr>\n",
              "      <th>8</th>\n",
              "      <td>8</td>\n",
              "      <td>90814</td>\n",
              "      <td>M</td>\n",
              "      <td>57.0</td>\n",
              "      <td>$50,000 to $74,999</td>\n",
              "      <td>White</td>\n",
              "      <td>Homeowner</td>\n",
              "    </tr>\n",
              "    <tr>\n",
              "      <th>9</th>\n",
              "      <td>9</td>\n",
              "      <td>90810</td>\n",
              "      <td>F</td>\n",
              "      <td>99.0</td>\n",
              "      <td>$30,000 to $49,999</td>\n",
              "      <td>Hispanic</td>\n",
              "      <td>Homeowner</td>\n",
              "    </tr>\n",
              "  </tbody>\n",
              "</table>\n",
              "</div>"
            ],
            "text/plain": [
              "   Unnamed: 0    ZIP  ... ETHNICITY  HOMEOWNERSHIP_STATUS\n",
              "0           0  90290  ...     White             Homeowner\n",
              "1           1  90036  ...     White             Homeowner\n",
              "2           2  92376  ...     White             Homeowner\n",
              "3           3  91767  ...     Asian             Homeowner\n",
              "4           4  92345  ...     White                Renter\n",
              "5           5  92225  ...  Hispanic             Homeowner\n",
              "6           6  90032  ...  Hispanic                Renter\n",
              "7           7  90301  ...     White                Renter\n",
              "8           8  90814  ...     White             Homeowner\n",
              "9           9  90810  ...  Hispanic             Homeowner\n",
              "\n",
              "[10 rows x 7 columns]"
            ]
          },
          "metadata": {
            "tags": []
          },
          "execution_count": 6
        }
      ]
    },
    {
      "cell_type": "code",
      "metadata": {
        "id": "1rMTJYPLLuqO"
      },
      "source": [
        "df = df.replace('NaN',0)"
      ],
      "execution_count": null,
      "outputs": []
    },
    {
      "cell_type": "markdown",
      "metadata": {
        "id": "U2smKXTC3B90"
      },
      "source": [
        "\n",
        "Toyota asked us to find clients that would be interested in buying their Toyota Siennas! We start by looking for households that own homes, and that approximatley earn on average,[ a yearly household income of $111,500](https://motorandwheels.com/11-toyota-sienna-statistics-facts/#:~:text=Sienna%20buyers%20are%20younger%20than,yearly%20household%20income%20of%20%24111%2C500)."
      ]
    },
    {
      "cell_type": "code",
      "metadata": {
        "id": "_fLwSpZmzea9"
      },
      "source": [
        "sienna= df[df['HOMEOWNERSHIP_STATUS'] == 'Homeowner']"
      ],
      "execution_count": null,
      "outputs": []
    },
    {
      "cell_type": "code",
      "metadata": {
        "colab": {
          "base_uri": "https://localhost:8080/"
        },
        "id": "QggoeuRMGwBA",
        "outputId": "acb07224-007a-433a-a7ad-082229e7bb5f"
      },
      "source": [
        "len(df.index) - len(sienna.index) "
      ],
      "execution_count": null,
      "outputs": [
        {
          "output_type": "execute_result",
          "data": {
            "text/plain": [
              "3033882"
            ]
          },
          "metadata": {
            "tags": []
          },
          "execution_count": 9
        }
      ]
    },
    {
      "cell_type": "code",
      "metadata": {
        "colab": {
          "base_uri": "https://localhost:8080/",
          "height": 783
        },
        "id": "eOGLslMDHQB5",
        "outputId": "bc477beb-199e-48da-e2eb-a2df04c5c362"
      },
      "source": [
        "compare = pd.DataFrame({\n",
        "    'df':df.ETHNICITY,\n",
        "    'sienna': sienna.ETHNICITY\n",
        "})\n",
        "\n",
        "sns.catplot(x=\"df\", kind=\"count\", data=compare), sns.catplot(x=\"sienna\", kind=\"count\", data=compare)\n",
        " "
      ],
      "execution_count": null,
      "outputs": [
        {
          "output_type": "execute_result",
          "data": {
            "text/plain": [
              "(<seaborn.axisgrid.FacetGrid at 0x7f11f598fe90>,\n",
              " <seaborn.axisgrid.FacetGrid at 0x7f11f2af0e90>)"
            ]
          },
          "metadata": {
            "tags": []
          },
          "execution_count": 10
        },
        {
          "output_type": "display_data",
          "data": {
            "image/png": "[encoded data removed]",
            "text/plain": [
              "<Figure size 360x360 with 1 Axes>"
            ]
          },
          "metadata": {
            "tags": [],
            "needs_background": "light"
          }
        },
        {
          "output_type": "display_data",
          "data": {
            "image/png": "[encoded data removed]",
            "text/plain": [
              "<Figure size 360x360 with 1 Axes>"
            ]
          },
          "metadata": {
            "tags": [],
            "needs_background": "light"
          }
        }
      ]
    },
    {
      "cell_type": "code",
      "metadata": {
        "colab": {
          "base_uri": "https://localhost:8080/"
        },
        "id": "hvO2G2vI58Sp",
        "outputId": "05b45d7b-97fa-46a2-c8ca-87a2234b384f"
      },
      "source": [
        "df.DEMO_HH_INCOME.unique()"
      ],
      "execution_count": null,
      "outputs": [
        {
          "output_type": "execute_result",
          "data": {
            "text/plain": [
              "array(['$75,000 to $99,999', '$100,000 to $149,999', '$30,000 to $49,999',\n",
              "       'Less than $30,000', '$50,000 to $74,999', '$250,000 +',\n",
              "       '$200,000 to $249,999', '$150,000 to $199,999'], dtype=object)"
            ]
          },
          "metadata": {
            "tags": []
          },
          "execution_count": 11
        }
      ]
    },
    {
      "cell_type": "code",
      "metadata": {
        "colab": {
          "base_uri": "https://localhost:8080/",
          "height": 311
        },
        "id": "J_GG76TaTDqF",
        "outputId": "d14d570e-82c2-4f64-fde2-2817021cd373"
      },
      "source": [
        "fig_dims = (15, 4)\r\n",
        "fig, ax = plt.subplots(figsize=fig_dims)\r\n",
        "\r\n",
        "sns.countplot(x=\"DEMO_HH_INCOME\", order = ['Less than $30,000', '$30,000 to $49,999', '$50,000 to $74,999', '$75,000 to $99,999', '$100,000 to $149,999', '$150,000 to $199,999', '$200,000 to $249,999', '$250,000 +'], ax = ax, data=df)"
      ],
      "execution_count": null,
      "outputs": [
        {
          "output_type": "execute_result",
          "data": {
            "text/plain": [
              "<matplotlib.axes._subplots.AxesSubplot at 0x7f11eaa902d0>"
            ]
          },
          "metadata": {
            "tags": []
          },
          "execution_count": 12
        },
        {
          "output_type": "display_data",
          "data": {
            "image/png": "[encoded data removed]",
            "text/plain": [
              "<Figure size 1080x288 with 1 Axes>"
            ]
          },
          "metadata": {
            "tags": [],
            "needs_background": "light"
          }
        }
      ]
    },
    {
      "cell_type": "markdown",
      "metadata": {
        "id": "vsFqsJbP4pT_"
      },
      "source": [
        "Simple count of how many people of each race are in each income bracket. All bars in each group should add to 100%"
      ]
    },
    {
      "cell_type": "code",
      "metadata": {
        "colab": {
          "base_uri": "https://localhost:8080/",
          "height": 311
        },
        "id": "Va79I_6_sOeJ",
        "outputId": "ededac29-70f9-4310-86dd-30b30d092d58"
      },
      "source": [
        "fig_dims = (15, 4)\r\n",
        "fig, ax = plt.subplots(figsize=fig_dims)\r\n",
        "sns.countplot(x=\"DEMO_HH_INCOME\", order = ['Less than $30,000', '$30,000 to $49,999', '$50,000 to $74,999', '$75,000 to $99,999', \r\n",
        "                                           '$100,000 to $149,999', '$150,000 to $199,999', '$200,000 to $249,999', \r\n",
        "                                           '$250,000 +'], hue = 'ETHNICITY',hue_order = ['White', 'Asian', 'Hispanic', 'African American'],  ax = ax, data=df)"
      ],
      "execution_count": null,
      "outputs": [
        {
          "output_type": "execute_result",
          "data": {
            "text/plain": [
              "<matplotlib.axes._subplots.AxesSubplot at 0x7f11ea584d50>"
            ]
          },
          "metadata": {
            "tags": []
          },
          "execution_count": 13
        },
        {
          "output_type": "display_data",
          "data": {
            "image/png": "[encoded data removed]",
            "text/plain": [
              "<Figure size 1080x288 with 1 Axes>"
            ]
          },
          "metadata": {
            "tags": [],
            "needs_background": "light"
          }
        }
      ]
    },
    {
      "cell_type": "markdown",
      "metadata": {
        "id": "l5WjHPf95Mt5"
      },
      "source": [
        "Normailzed count of how many people of each race are in each income bracket. All bars in each group should add to 100%. Sanity check - it should look very similar to the above graph."
      ]
    },
    {
      "cell_type": "code",
      "metadata": {
        "colab": {
          "base_uri": "https://localhost:8080/",
          "height": 300
        },
        "id": "846K24U9sOg-",
        "outputId": "fe986d80-7a44-4bf6-d473-5c2ed1f13a96"
      },
      "source": [
        "fig_dims = (15, 4)\r\n",
        "fig, ax = plt.subplots(figsize=fig_dims)\r\n",
        "\r\n",
        "#sns.set(color_codes=True)\r\n",
        "\r\n",
        "df_plot = df\r\n",
        "\r\n",
        "x,y = 'DEMO_HH_INCOME', 'ETHNICITY'\r\n",
        "\r\n",
        "df_plot = df_plot.groupby(x)[y].value_counts(normalize=True).mul(100).rename('percent').reset_index()\r\n",
        "\r\n",
        "sns.barplot(x=x, y='percent', hue=y, order = ['Less than $30,000', '$30,000 to $49,999',\r\n",
        "                                              '$50,000 to $74,999', '$75,000 to $99,999', '$100,000 to $149,999', \r\n",
        "                                              '$150,000 to $199,999', '$200,000 to $249,999', \r\n",
        "                                              '$250,000 +'], hue_order = ['White', 'Asian', 'Hispanic', 'African American'], ax=ax, data = df_plot)"
      ],
      "execution_count": null,
      "outputs": [
        {
          "output_type": "execute_result",
          "data": {
            "text/plain": [
              "<matplotlib.axes._subplots.AxesSubplot at 0x7f11ea3fb710>"
            ]
          },
          "metadata": {
            "tags": []
          },
          "execution_count": 14
        },
        {
          "output_type": "display_data",
          "data": {
            "image/png": "[encoded data removed]",
            "text/plain": [
              "<Figure size 1080x288 with 1 Axes>"
            ]
          },
          "metadata": {
            "tags": [],
            "needs_background": "light"
          }
        }
      ]
    },
    {
      "cell_type": "markdown",
      "metadata": {
        "id": "oZlSoQSS5hts"
      },
      "source": [
        "Race by income - shows the percentage of people of a certain race who are in a certain bracket. All the bars for one race add to 100%"
      ]
    },
    {
      "cell_type": "code",
      "metadata": {
        "id": "3jwxAYxhsOqS",
        "colab": {
          "base_uri": "https://localhost:8080/",
          "height": 301
        },
        "outputId": "c10b440e-cd25-4348-d16c-7aa9e19b619e"
      },
      "source": [
        "fig_dims = (15, 4)\r\n",
        "fig, ax = plt.subplots(figsize=fig_dims)\r\n",
        "\r\n",
        "df_plot = df\r\n",
        "\r\n",
        "x,y = 'ETHNICITY', 'DEMO_HH_INCOME'\r\n",
        "\r\n",
        "\r\n",
        "df_plot = df_plot.groupby(x)[y].value_counts(normalize=True).mul(100).rename('percent').reset_index()\r\n",
        "\r\n",
        "sns.barplot(x=y, y='percent', hue=x, order = ['Less than $30,000', '$30,000 to $49,999', \r\n",
        "                                              '$50,000 to $74,999', '$75,000 to $99,999', '$100,000 to $149,999', \r\n",
        "                                              '$150,000 to $199,999', '$200,000 to $249,999', \r\n",
        "                                              '$250,000 +'], hue_order = ['White', 'Asian', 'Hispanic', 'African American'],  ax=ax, data = df_plot)"
      ],
      "execution_count": null,
      "outputs": [
        {
          "output_type": "execute_result",
          "data": {
            "text/plain": [
              "<matplotlib.axes._subplots.AxesSubplot at 0x7f11e97e08d0>"
            ]
          },
          "metadata": {
            "tags": []
          },
          "execution_count": 15
        },
        {
          "output_type": "display_data",
          "data": {
            "image/png": "[encoded data removed]",
            "text/plain": [
              "<Figure size 1080x288 with 1 Axes>"
            ]
          },
          "metadata": {
            "tags": [],
            "needs_background": "light"
          }
        }
      ]
    },
    {
      "cell_type": "code",
      "metadata": {
        "id": "FJm_3f3bsOtl"
      },
      "source": [
        ""
      ],
      "execution_count": null,
      "outputs": []
    },
    {
      "cell_type": "code",
      "metadata": {
        "id": "Sjh_NyDCsOww"
      },
      "source": [
        ""
      ],
      "execution_count": null,
      "outputs": []
    },
    {
      "cell_type": "code",
      "metadata": {
        "id": "n8B_113Cltk3"
      },
      "source": [
        "sienna= df[df['HOMEOWNERSHIP_STATUS'] == 'Homeowner']"
      ],
      "execution_count": null,
      "outputs": []
    },
    {
      "cell_type": "code",
      "metadata": {
        "id": "4B2jp-kxqCs4",
        "colab": {
          "base_uri": "https://localhost:8080/",
          "height": 49,
          "referenced_widgets": [
            "d6f6b6020bf64640a93d4efb8aab6f36",
            "d067a92ea7414cdea0a1c5b2ec76bb64",
            "05df50fdeab5459b8a4492dab16a3eb7"
          ]
        },
        "outputId": "d9a8bde1-91c8-408c-b325-2640d857dc70"
      },
      "source": [
        "widgets.Dropdown(\n",
        "    options=['1', '2', '3'],\n",
        "    value='2',\n",
        "    description='Number:',\n",
        "    disabled=False,\n",
        ")"
      ],
      "execution_count": null,
      "outputs": [
        {
          "output_type": "display_data",
          "data": {
            "application/vnd.jupyter.widget-view+json": {
              "model_id": "d6f6b6020bf64640a93d4efb8aab6f36",
              "version_minor": 0,
              "version_major": 2
            },
            "text/plain": [
              "Dropdown(description='Number:', index=1, options=('1', '2', '3'), value='2')"
            ]
          },
          "metadata": {
            "tags": []
          }
        }
      ]
    },
    {
      "cell_type": "code",
      "metadata": {
        "id": "Ou-5wLMqoAA8"
      },
      "source": [
        ""
      ],
      "execution_count": null,
      "outputs": []
    },
    {
      "cell_type": "markdown",
      "metadata": {
        "id": "yrqkqK_YGZ-C"
      },
      "source": [
        ""
      ]
    },
    {
      "cell_type": "markdown",
      "metadata": {
        "id": "2k2iipmYvokf"
      },
      "source": [
        "**POTENTIALLY ADD EDA HERE**"
      ]
    },
    {
      "cell_type": "markdown",
      "metadata": {
        "id": "e6ZmPjvuzG4B"
      },
      "source": [
        "### DEMO of prototype V1: "
      ]
    },
    {
      "cell_type": "markdown",
      "metadata": {
        "id": "wX_rzKl1Ycl-"
      },
      "source": [
        ""
      ]
    },
    {
      "cell_type": "markdown",
      "metadata": {
        "id": "6x1oROIIo5zZ"
      },
      "source": [
        "# Conditional Entropy and Correlational Heatmaps \n",
        "\n",
        "\n",
        "Here we take a deeper dive into the relationships between the various features in our data. To do so, we use the entropy between the variables to innvestigate a few statistics that are similar to correlation coefficients, but are adjusted for categorical data. \n",
        "\n",
        "credits to Shaked Zychlinski for providing us with preliminary code to explore these relationships.\n",
        "\n"
      ]
    },
    {
      "cell_type": "code",
      "metadata": {
        "id": "eePduuFaBYeI"
      },
      "source": [
        "df2 = df\n",
        "df2 = df2.rename(columns = {'ETHNICITY': 'RACE', 'Unnamed: 0':'ID'})\n",
        "df2['ZIP'] = df2['ZIP'].astype(str)"
      ],
      "execution_count": null,
      "outputs": []
    },
    {
      "cell_type": "code",
      "metadata": {
        "id": "baxTmZ5PBZpg"
      },
      "source": [
        "_REPLACE = 'replace'\n",
        "_DEFAULT_REPLACE_VALUE = 0.0"
      ],
      "execution_count": null,
      "outputs": []
    },
    {
      "cell_type": "code",
      "metadata": {
        "id": "kYJl22KXBRLf"
      },
      "source": [
        "def replace_nan_with_value(x, y, value):\n",
        "    x = np.array([v if v == v and v is not None else value for v in x])  # NaN != NaN\n",
        "    y = np.array([v if v == v and v is not None else value for v in y])\n",
        "    return x, y"
      ],
      "execution_count": null,
      "outputs": []
    },
    {
      "cell_type": "code",
      "metadata": {
        "id": "R5cROtGgBRet"
      },
      "source": [
        "def remove_incomplete_samples(x, y):\n",
        "    x = [v if v is not None else np.nan for v in x]\n",
        "    y = [v if v is not None else np.nan for v in y]\n",
        "    arr = np.array([x, y]).transpose()\n",
        "    arr = arr[~np.isnan(arr).any(axis=1)].transpose()\n",
        "    if isinstance(x, list):\n",
        "        return arr[0].tolist(), arr[1].tolist()\n",
        "    else:\n",
        "        return arr[0], arr[1]"
      ],
      "execution_count": null,
      "outputs": []
    },
    {
      "cell_type": "code",
      "metadata": {
        "id": "yQAvdMRyGWxf"
      },
      "source": [
        "def conditional_entropy(x,y,\n",
        "                        nan_strategy=_REPLACE,\n",
        "                        nan_replace_value=_DEFAULT_REPLACE_VALUE,\n",
        "                        log_base: float = math.e):\n",
        "    \"\"\"\n",
        "    Calculates the conditional entropy of x given y: S(x|y)\n",
        "    Wikipedia: https://en.wikipedia.org/wiki/Conditional_entropy\n",
        "    Parameters:\n",
        "    -----------\n",
        "    x : list / NumPy ndarray / Pandas Series\n",
        "        A sequence of measurements\n",
        "    y : list / NumPy ndarray / Pandas Series\n",
        "        A sequence of measurements\n",
        "    nan_strategy : string, default = 'replace'\n",
        "        How to handle missing values: can be either 'drop' to remove samples\n",
        "        with missing values, or 'replace' to replace all missing values with\n",
        "        the nan_replace_value. Missing values are None and np.nan.\n",
        "    nan_replace_value : any, default = 0.0\n",
        "        The value used to replace missing values with. Only applicable when\n",
        "        nan_strategy is set to 'replace'.\n",
        "    log_base: float, default = e\n",
        "        specifying base for calculating entropy. Default is base e.\n",
        "    Returns:\n",
        "    --------\n",
        "    float\n",
        "    \"\"\"\n",
        "    if nan_strategy == _REPLACE:\n",
        "        x, y = replace_nan_with_value(x, y, nan_replace_value)\n",
        "    elif nan_strategy == _DROP:\n",
        "        x, y = remove_incomplete_samples(x, y)\n",
        "    y_counter = Counter(y)\n",
        "    xy_counter = Counter(list(zip(x, y)))\n",
        "    total_occurrences = sum(y_counter.values())\n",
        "    entropy = 0.0\n",
        "    for xy in xy_counter.keys():\n",
        "        p_xy = xy_counter[xy] / total_occurrences\n",
        "        p_y = y_counter[xy[1]] / total_occurrences\n",
        "        entropy += p_xy * math.log(p_y / p_xy, log_base)\n",
        "    return entropy"
      ],
      "execution_count": null,
      "outputs": []
    },
    {
      "cell_type": "code",
      "metadata": {
        "id": "uLzxXJhqGWxf"
      },
      "source": [
        "def theils_u(x,\n",
        "             y,\n",
        "             nan_strategy=_REPLACE,\n",
        "             nan_replace_value=_DEFAULT_REPLACE_VALUE):\n",
        "    \"\"\"\n",
        "    Calculates Theil's U statistic (Uncertainty coefficient) for categorical-\n",
        "    categorical association. This is the uncertainty of x given y: value is\n",
        "    on the range of [0,1] - where 0 means y provides no information about\n",
        "    x, and 1 means y provides full information about x.\n",
        "    This is an asymmetric coefficient: U(x,y) != U(y,x)\n",
        "    Wikipedia: https://en.wikipedia.org/wiki/Uncertainty_coefficient\n",
        "    Parameters:\n",
        "    -----------\n",
        "    x : list / NumPy ndarray / Pandas Series\n",
        "        A sequence of categorical measurements\n",
        "    y : list / NumPy ndarray / Pandas Series\n",
        "        A sequence of categorical measurements\n",
        "    nan_strategy : string, default = 'replace'\n",
        "        How to handle missing values: can be either 'drop' to remove samples\n",
        "        with missing values, or 'replace' to replace all missing values with\n",
        "        the nan_replace_value. Missing values are None and np.nan.\n",
        "    nan_replace_value : any, default = 0.0\n",
        "        The value used to replace missing values with. Only applicable when\n",
        "        nan_strategy is set to 'replace'.\n",
        "    Returns:\n",
        "    --------\n",
        "    float in the range of [0,1]\n",
        "    \"\"\"\n",
        "    if nan_strategy == _REPLACE:\n",
        "        x, y = replace_nan_with_value(x, y, nan_replace_value)\n",
        "    elif nan_strategy == _DROP:\n",
        "        x, y = remove_incomplete_samples(x, y)\n",
        "    s_xy = conditional_entropy(x, y)\n",
        "    x_counter = Counter(x)\n",
        "    total_occurrences = sum(x_counter.values())\n",
        "    p_x = list(map(lambda n: n / total_occurrences, x_counter.values()))\n",
        "    s_x = ss.entropy(p_x)\n",
        "    if s_x == 0:\n",
        "        return 1\n",
        "    else:\n",
        "        return (s_x - s_xy) / s_x"
      ],
      "execution_count": null,
      "outputs": []
    },
    {
      "cell_type": "markdown",
      "metadata": {
        "id": "PDtdAsDtFlBl"
      },
      "source": [
        "Conditional Entropy between 2 features:"
      ]
    },
    {
      "cell_type": "code",
      "metadata": {
        "colab": {
          "base_uri": "https://localhost:8080/"
        },
        "id": "3oFm4HHWGWxg",
        "outputId": "ae990fe0-37e9-49dc-e05b-ea3eac239973"
      },
      "source": [
        "conditional_entropy(df2['RACE'],df2['HOMEOWNERSHIP_STATUS'])"
      ],
      "execution_count": null,
      "outputs": [
        {
          "output_type": "execute_result",
          "data": {
            "text/plain": [
              "1.0907465522677662"
            ]
          },
          "metadata": {
            "tags": []
          },
          "execution_count": 24
        }
      ]
    },
    {
      "cell_type": "code",
      "metadata": {
        "colab": {
          "base_uri": "https://localhost:8080/",
          "height": 130
        },
        "id": "tSEgEwvnGWxg",
        "outputId": "18e96a00-6acd-49e0-9d7f-ecb0240159c8"
      },
      "source": [
        "df3 = \n"
      ],
      "execution_count": null,
      "outputs": [
        {
          "output_type": "error",
          "ename": "SyntaxError",
          "evalue": "ignored",
          "traceback": [
            "\u001b[0;36m  File \u001b[0;32m\"<ipython-input-25-444dee62f207>\"\u001b[0;36m, line \u001b[0;32m1\u001b[0m\n\u001b[0;31m    df3 =\u001b[0m\n\u001b[0m          ^\u001b[0m\n\u001b[0;31mSyntaxError\u001b[0m\u001b[0;31m:\u001b[0m invalid syntax\n"
          ]
        }
      ]
    },
    {
      "cell_type": "markdown",
      "metadata": {
        "id": "RypQHz4XaxFU"
      },
      "source": [
        "Below is some pseudo-code intended to traverse through all features within the data in order to generate conditional entropy values with other features in the dataset. "
      ]
    },
    {
      "cell_type": "code",
      "metadata": {
        "id": "oXV1iNkh_k_d"
      },
      "source": [
        "dictionary = dict()\n",
        "for x in df2.columns:\n",
        "    for y in df2.columns:\n",
        "        dictionary[x + '_' + y] = conditional_entropy(df2[x],df2[y])\n",
        "        print(dictionary[x + '_' + y])"
      ],
      "execution_count": null,
      "outputs": []
    },
    {
      "cell_type": "markdown",
      "metadata": {
        "id": "ShUr_-wPcDKe"
      },
      "source": [
        "we now know that the categorical data types we have are fit for generating the various metrics, now we put those metrics into a heatmap\n"
      ]
    },
    {
      "cell_type": "code",
      "metadata": {
        "id": "FQ-1bNL9wS47"
      },
      "source": [
        "# creating a blank correlation matrix of dimension (num_features x num_feautres)\n",
        "rows, cols = (len(df2.columns), len(df2.columns))\n",
        "corra_matrix = [[0]*cols]*rows"
      ],
      "execution_count": null,
      "outputs": []
    },
    {
      "cell_type": "code",
      "metadata": {
        "colab": {
          "background_save": true
        },
        "id": "G73KJJCob7SD"
      },
      "source": [
        "#populating the correlation matrix with our correlation metric of choice, in this case, conditional entropy\n",
        "i = 0\n",
        "for x in df2.columns:\n",
        "    j = 0\n",
        "    for y in df2.columns:\n",
        "        \n",
        "        corra_matrix [i][j]= conditional_entropy(df2[x],df2[y])\n",
        "        j+=1\n",
        "    i+=1"
      ],
      "execution_count": null,
      "outputs": []
    },
    {
      "cell_type": "code",
      "metadata": {
        "id": "mUXiC-H4xXra"
      },
      "source": [
        ""
      ],
      "execution_count": null,
      "outputs": []
    },
    {
      "cell_type": "markdown",
      "metadata": {
        "id": "1A34xBhFh-NB"
      },
      "source": [
        "Resources: \n",
        "\n",
        "\n",
        "\n",
        "1.   https://towardsdatascience.com/the-search-for-categorical-correlation-a1cf7f1888c9\n",
        "\n",
        "2.   https://github.com/shakedzy/dython/blob/master/dython/nominal.py\n",
        "\n",
        "\n",
        "\n",
        "\n",
        "\n",
        "\n"
      ]
    },
    {
      "cell_type": "markdown",
      "metadata": {
        "id": "Q6vSMQ9tii7w"
      },
      "source": [
        "Author(s): Wei Dai, Sam Stilson, Michelle Gu, Lubah Nelson, Noor-Ul-Ain Ali"
      ]
    },
    {
      "cell_type": "code",
      "metadata": {
        "id": "w0SlyAKWjBVr"
      },
      "source": [
        "widgets.IntSlider()"
      ],
      "execution_count": null,
      "outputs": []
    }
  ]
}